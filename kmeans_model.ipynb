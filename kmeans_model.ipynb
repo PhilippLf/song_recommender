{
 "cells": [
  {
   "cell_type": "markdown",
   "metadata": {
    "id": "ZcSGgeMpeAgy"
   },
   "source": [
    "## Importing libraries"
   ]
  },
  {
   "cell_type": "code",
   "execution_count": 1,
   "metadata": {
    "executionInfo": {
     "elapsed": 1543,
     "status": "ok",
     "timestamp": 1623846916468,
     "user": {
      "displayName": "Ignacio Soteras",
      "photoUrl": "",
      "userId": "02050793736257155229"
     },
     "user_tz": -120
    },
    "id": "MVmBiWjsd2Xd",
    "tags": []
   },
   "outputs": [],
   "source": [
    "import numpy as np\n",
    "import pandas as pd\n",
    "import pickle\n",
    "from sklearn import datasets # sklearn comes with some toy datasets to practice\n",
    "from sklearn.preprocessing import StandardScaler\n",
    "from sklearn.cluster import KMeans\n",
    "from matplotlib import pyplot\n",
    "from sklearn.metrics import silhouette_score"
   ]
  },
  {
   "cell_type": "markdown",
   "metadata": {
    "id": "p-MFU-2neT38"
   },
   "source": [
    "## Loading the sklearn's wines dataset"
   ]
  },
  {
   "cell_type": "code",
   "execution_count": 2,
   "metadata": {
    "tags": []
   },
   "outputs": [],
   "source": [
    "df = pd.read_csv('data/spotify_project.csv')"
   ]
  },
  {
   "cell_type": "code",
   "execution_count": 3,
   "metadata": {
    "tags": []
   },
   "outputs": [],
   "source": [
    "df.drop('Unnamed: 0', axis=1, inplace=True)"
   ]
  },
  {
   "cell_type": "code",
   "execution_count": 4,
   "metadata": {
    "tags": []
   },
   "outputs": [
    {
     "data": {
      "text/plain": [
       "False    34181\n",
       "dtype: int64"
      ]
     },
     "execution_count": 4,
     "metadata": {},
     "output_type": "execute_result"
    }
   ],
   "source": [
    "df.duplicated().value_counts()"
   ]
  },
  {
   "cell_type": "code",
   "execution_count": 5,
   "metadata": {
    "tags": []
   },
   "outputs": [],
   "source": [
    "X = df[[\"danceability\",\"energy\",\"loudness\",\"speechiness\",\"acousticness\",\n",
    "        \"instrumentalness\",\"liveness\",\"valence\",\"tempo\",\"id\"]]"
   ]
  },
  {
   "cell_type": "code",
   "execution_count": 6,
   "metadata": {
    "tags": []
   },
   "outputs": [
    {
     "data": {
      "text/html": [
       "<div>\n",
       "<style scoped>\n",
       "    .dataframe tbody tr th:only-of-type {\n",
       "        vertical-align: middle;\n",
       "    }\n",
       "\n",
       "    .dataframe tbody tr th {\n",
       "        vertical-align: top;\n",
       "    }\n",
       "\n",
       "    .dataframe thead th {\n",
       "        text-align: right;\n",
       "    }\n",
       "</style>\n",
       "<table border=\"1\" class=\"dataframe\">\n",
       "  <thead>\n",
       "    <tr style=\"text-align: right;\">\n",
       "      <th></th>\n",
       "      <th>danceability</th>\n",
       "      <th>energy</th>\n",
       "      <th>loudness</th>\n",
       "      <th>speechiness</th>\n",
       "      <th>acousticness</th>\n",
       "      <th>instrumentalness</th>\n",
       "      <th>liveness</th>\n",
       "      <th>valence</th>\n",
       "      <th>tempo</th>\n",
       "      <th>id</th>\n",
       "    </tr>\n",
       "  </thead>\n",
       "  <tbody>\n",
       "    <tr>\n",
       "      <th>0</th>\n",
       "      <td>0.615</td>\n",
       "      <td>0.7790</td>\n",
       "      <td>-6.454</td>\n",
       "      <td>0.1350</td>\n",
       "      <td>0.0665</td>\n",
       "      <td>0.000000</td>\n",
       "      <td>0.1550</td>\n",
       "      <td>0.453</td>\n",
       "      <td>160.000</td>\n",
       "      <td>7zgqtptZvhf8GEmdsM2vp2</td>\n",
       "    </tr>\n",
       "    <tr>\n",
       "      <th>1</th>\n",
       "      <td>0.687</td>\n",
       "      <td>0.8450</td>\n",
       "      <td>-4.370</td>\n",
       "      <td>0.0576</td>\n",
       "      <td>0.1000</td>\n",
       "      <td>0.000000</td>\n",
       "      <td>0.0452</td>\n",
       "      <td>0.809</td>\n",
       "      <td>87.972</td>\n",
       "      <td>4Vxu50qVrQcycjRyJQaZLC</td>\n",
       "    </tr>\n",
       "    <tr>\n",
       "      <th>2</th>\n",
       "      <td>0.818</td>\n",
       "      <td>0.8030</td>\n",
       "      <td>-4.282</td>\n",
       "      <td>0.0797</td>\n",
       "      <td>0.0340</td>\n",
       "      <td>0.000000</td>\n",
       "      <td>0.1530</td>\n",
       "      <td>0.632</td>\n",
       "      <td>106.970</td>\n",
       "      <td>6b8Be6ljOzmkOmFslEb23P</td>\n",
       "    </tr>\n",
       "    <tr>\n",
       "      <th>3</th>\n",
       "      <td>0.624</td>\n",
       "      <td>0.8760</td>\n",
       "      <td>-3.374</td>\n",
       "      <td>0.1000</td>\n",
       "      <td>0.0735</td>\n",
       "      <td>0.000000</td>\n",
       "      <td>0.3270</td>\n",
       "      <td>0.781</td>\n",
       "      <td>99.943</td>\n",
       "      <td>0afhq8XCExXpqazXczTSve</td>\n",
       "    </tr>\n",
       "    <tr>\n",
       "      <th>4</th>\n",
       "      <td>0.614</td>\n",
       "      <td>0.3790</td>\n",
       "      <td>-10.480</td>\n",
       "      <td>0.0476</td>\n",
       "      <td>0.6070</td>\n",
       "      <td>0.000464</td>\n",
       "      <td>0.0986</td>\n",
       "      <td>0.201</td>\n",
       "      <td>107.989</td>\n",
       "      <td>1HNkqx9Ahdgi1Ixy2xkKkL</td>\n",
       "    </tr>\n",
       "    <tr>\n",
       "      <th>...</th>\n",
       "      <td>...</td>\n",
       "      <td>...</td>\n",
       "      <td>...</td>\n",
       "      <td>...</td>\n",
       "      <td>...</td>\n",
       "      <td>...</td>\n",
       "      <td>...</td>\n",
       "      <td>...</td>\n",
       "      <td>...</td>\n",
       "      <td>...</td>\n",
       "    </tr>\n",
       "    <tr>\n",
       "      <th>34176</th>\n",
       "      <td>0.608</td>\n",
       "      <td>0.7450</td>\n",
       "      <td>-4.130</td>\n",
       "      <td>0.0277</td>\n",
       "      <td>0.0226</td>\n",
       "      <td>0.000006</td>\n",
       "      <td>0.0942</td>\n",
       "      <td>0.464</td>\n",
       "      <td>102.025</td>\n",
       "      <td>48UKTR66uUOT9LaUvooTNx</td>\n",
       "    </tr>\n",
       "    <tr>\n",
       "      <th>34177</th>\n",
       "      <td>0.467</td>\n",
       "      <td>0.8280</td>\n",
       "      <td>-2.220</td>\n",
       "      <td>0.0489</td>\n",
       "      <td>0.1810</td>\n",
       "      <td>0.000000</td>\n",
       "      <td>0.1020</td>\n",
       "      <td>0.334</td>\n",
       "      <td>79.978</td>\n",
       "      <td>3nhGk6VnrDHy67pXvMhdPa</td>\n",
       "    </tr>\n",
       "    <tr>\n",
       "      <th>34178</th>\n",
       "      <td>0.545</td>\n",
       "      <td>0.7790</td>\n",
       "      <td>-6.235</td>\n",
       "      <td>0.0751</td>\n",
       "      <td>0.2430</td>\n",
       "      <td>0.000002</td>\n",
       "      <td>0.1230</td>\n",
       "      <td>0.303</td>\n",
       "      <td>150.002</td>\n",
       "      <td>1DmW5Ep6ywYwxc2HMT5BG6</td>\n",
       "    </tr>\n",
       "    <tr>\n",
       "      <th>34179</th>\n",
       "      <td>0.539</td>\n",
       "      <td>0.5080</td>\n",
       "      <td>-6.050</td>\n",
       "      <td>0.0288</td>\n",
       "      <td>0.7270</td>\n",
       "      <td>0.000000</td>\n",
       "      <td>0.1740</td>\n",
       "      <td>0.227</td>\n",
       "      <td>101.358</td>\n",
       "      <td>0T5iIrXA4p5GsubkhuBIKV</td>\n",
       "    </tr>\n",
       "    <tr>\n",
       "      <th>34180</th>\n",
       "      <td>0.444</td>\n",
       "      <td>0.0911</td>\n",
       "      <td>-17.665</td>\n",
       "      <td>0.0307</td>\n",
       "      <td>0.9590</td>\n",
       "      <td>0.000001</td>\n",
       "      <td>0.0980</td>\n",
       "      <td>0.142</td>\n",
       "      <td>78.403</td>\n",
       "      <td>6wf7Yu7cxBSPrRlWeSeK0Q</td>\n",
       "    </tr>\n",
       "  </tbody>\n",
       "</table>\n",
       "<p>34181 rows × 10 columns</p>\n",
       "</div>"
      ],
      "text/plain": [
       "       danceability  energy  loudness  speechiness  acousticness  \\\n",
       "0             0.615  0.7790    -6.454       0.1350        0.0665   \n",
       "1             0.687  0.8450    -4.370       0.0576        0.1000   \n",
       "2             0.818  0.8030    -4.282       0.0797        0.0340   \n",
       "3             0.624  0.8760    -3.374       0.1000        0.0735   \n",
       "4             0.614  0.3790   -10.480       0.0476        0.6070   \n",
       "...             ...     ...       ...          ...           ...   \n",
       "34176         0.608  0.7450    -4.130       0.0277        0.0226   \n",
       "34177         0.467  0.8280    -2.220       0.0489        0.1810   \n",
       "34178         0.545  0.7790    -6.235       0.0751        0.2430   \n",
       "34179         0.539  0.5080    -6.050       0.0288        0.7270   \n",
       "34180         0.444  0.0911   -17.665       0.0307        0.9590   \n",
       "\n",
       "       instrumentalness  liveness  valence    tempo                      id  \n",
       "0              0.000000    0.1550    0.453  160.000  7zgqtptZvhf8GEmdsM2vp2  \n",
       "1              0.000000    0.0452    0.809   87.972  4Vxu50qVrQcycjRyJQaZLC  \n",
       "2              0.000000    0.1530    0.632  106.970  6b8Be6ljOzmkOmFslEb23P  \n",
       "3              0.000000    0.3270    0.781   99.943  0afhq8XCExXpqazXczTSve  \n",
       "4              0.000464    0.0986    0.201  107.989  1HNkqx9Ahdgi1Ixy2xkKkL  \n",
       "...                 ...       ...      ...      ...                     ...  \n",
       "34176          0.000006    0.0942    0.464  102.025  48UKTR66uUOT9LaUvooTNx  \n",
       "34177          0.000000    0.1020    0.334   79.978  3nhGk6VnrDHy67pXvMhdPa  \n",
       "34178          0.000002    0.1230    0.303  150.002  1DmW5Ep6ywYwxc2HMT5BG6  \n",
       "34179          0.000000    0.1740    0.227  101.358  0T5iIrXA4p5GsubkhuBIKV  \n",
       "34180          0.000001    0.0980    0.142   78.403  6wf7Yu7cxBSPrRlWeSeK0Q  \n",
       "\n",
       "[34181 rows x 10 columns]"
      ]
     },
     "execution_count": 6,
     "metadata": {},
     "output_type": "execute_result"
    }
   ],
   "source": [
    "X"
   ]
  },
  {
   "cell_type": "markdown",
   "metadata": {
    "id": "jKnoCN1MgG6B"
   },
   "source": [
    "## Scaling features"
   ]
  },
  {
   "cell_type": "code",
   "execution_count": 7,
   "metadata": {
    "tags": []
   },
   "outputs": [
    {
     "data": {
      "text/html": [
       "<div>\n",
       "<style scoped>\n",
       "    .dataframe tbody tr th:only-of-type {\n",
       "        vertical-align: middle;\n",
       "    }\n",
       "\n",
       "    .dataframe tbody tr th {\n",
       "        vertical-align: top;\n",
       "    }\n",
       "\n",
       "    .dataframe thead th {\n",
       "        text-align: right;\n",
       "    }\n",
       "</style>\n",
       "<table border=\"1\" class=\"dataframe\">\n",
       "  <thead>\n",
       "    <tr style=\"text-align: right;\">\n",
       "      <th></th>\n",
       "      <th>danceability</th>\n",
       "      <th>energy</th>\n",
       "      <th>loudness</th>\n",
       "      <th>speechiness</th>\n",
       "      <th>acousticness</th>\n",
       "      <th>instrumentalness</th>\n",
       "      <th>liveness</th>\n",
       "      <th>valence</th>\n",
       "      <th>tempo</th>\n",
       "      <th>id</th>\n",
       "    </tr>\n",
       "  </thead>\n",
       "  <tbody>\n",
       "    <tr>\n",
       "      <th>0</th>\n",
       "      <td>0.615</td>\n",
       "      <td>0.7790</td>\n",
       "      <td>-6.454</td>\n",
       "      <td>0.1350</td>\n",
       "      <td>0.0665</td>\n",
       "      <td>0.000000</td>\n",
       "      <td>0.1550</td>\n",
       "      <td>0.453</td>\n",
       "      <td>160.000</td>\n",
       "      <td>7zgqtptZvhf8GEmdsM2vp2</td>\n",
       "    </tr>\n",
       "    <tr>\n",
       "      <th>1</th>\n",
       "      <td>0.687</td>\n",
       "      <td>0.8450</td>\n",
       "      <td>-4.370</td>\n",
       "      <td>0.0576</td>\n",
       "      <td>0.1000</td>\n",
       "      <td>0.000000</td>\n",
       "      <td>0.0452</td>\n",
       "      <td>0.809</td>\n",
       "      <td>87.972</td>\n",
       "      <td>4Vxu50qVrQcycjRyJQaZLC</td>\n",
       "    </tr>\n",
       "    <tr>\n",
       "      <th>2</th>\n",
       "      <td>0.818</td>\n",
       "      <td>0.8030</td>\n",
       "      <td>-4.282</td>\n",
       "      <td>0.0797</td>\n",
       "      <td>0.0340</td>\n",
       "      <td>0.000000</td>\n",
       "      <td>0.1530</td>\n",
       "      <td>0.632</td>\n",
       "      <td>106.970</td>\n",
       "      <td>6b8Be6ljOzmkOmFslEb23P</td>\n",
       "    </tr>\n",
       "    <tr>\n",
       "      <th>3</th>\n",
       "      <td>0.624</td>\n",
       "      <td>0.8760</td>\n",
       "      <td>-3.374</td>\n",
       "      <td>0.1000</td>\n",
       "      <td>0.0735</td>\n",
       "      <td>0.000000</td>\n",
       "      <td>0.3270</td>\n",
       "      <td>0.781</td>\n",
       "      <td>99.943</td>\n",
       "      <td>0afhq8XCExXpqazXczTSve</td>\n",
       "    </tr>\n",
       "    <tr>\n",
       "      <th>4</th>\n",
       "      <td>0.614</td>\n",
       "      <td>0.3790</td>\n",
       "      <td>-10.480</td>\n",
       "      <td>0.0476</td>\n",
       "      <td>0.6070</td>\n",
       "      <td>0.000464</td>\n",
       "      <td>0.0986</td>\n",
       "      <td>0.201</td>\n",
       "      <td>107.989</td>\n",
       "      <td>1HNkqx9Ahdgi1Ixy2xkKkL</td>\n",
       "    </tr>\n",
       "    <tr>\n",
       "      <th>...</th>\n",
       "      <td>...</td>\n",
       "      <td>...</td>\n",
       "      <td>...</td>\n",
       "      <td>...</td>\n",
       "      <td>...</td>\n",
       "      <td>...</td>\n",
       "      <td>...</td>\n",
       "      <td>...</td>\n",
       "      <td>...</td>\n",
       "      <td>...</td>\n",
       "    </tr>\n",
       "    <tr>\n",
       "      <th>34176</th>\n",
       "      <td>0.608</td>\n",
       "      <td>0.7450</td>\n",
       "      <td>-4.130</td>\n",
       "      <td>0.0277</td>\n",
       "      <td>0.0226</td>\n",
       "      <td>0.000006</td>\n",
       "      <td>0.0942</td>\n",
       "      <td>0.464</td>\n",
       "      <td>102.025</td>\n",
       "      <td>48UKTR66uUOT9LaUvooTNx</td>\n",
       "    </tr>\n",
       "    <tr>\n",
       "      <th>34177</th>\n",
       "      <td>0.467</td>\n",
       "      <td>0.8280</td>\n",
       "      <td>-2.220</td>\n",
       "      <td>0.0489</td>\n",
       "      <td>0.1810</td>\n",
       "      <td>0.000000</td>\n",
       "      <td>0.1020</td>\n",
       "      <td>0.334</td>\n",
       "      <td>79.978</td>\n",
       "      <td>3nhGk6VnrDHy67pXvMhdPa</td>\n",
       "    </tr>\n",
       "    <tr>\n",
       "      <th>34178</th>\n",
       "      <td>0.545</td>\n",
       "      <td>0.7790</td>\n",
       "      <td>-6.235</td>\n",
       "      <td>0.0751</td>\n",
       "      <td>0.2430</td>\n",
       "      <td>0.000002</td>\n",
       "      <td>0.1230</td>\n",
       "      <td>0.303</td>\n",
       "      <td>150.002</td>\n",
       "      <td>1DmW5Ep6ywYwxc2HMT5BG6</td>\n",
       "    </tr>\n",
       "    <tr>\n",
       "      <th>34179</th>\n",
       "      <td>0.539</td>\n",
       "      <td>0.5080</td>\n",
       "      <td>-6.050</td>\n",
       "      <td>0.0288</td>\n",
       "      <td>0.7270</td>\n",
       "      <td>0.000000</td>\n",
       "      <td>0.1740</td>\n",
       "      <td>0.227</td>\n",
       "      <td>101.358</td>\n",
       "      <td>0T5iIrXA4p5GsubkhuBIKV</td>\n",
       "    </tr>\n",
       "    <tr>\n",
       "      <th>34180</th>\n",
       "      <td>0.444</td>\n",
       "      <td>0.0911</td>\n",
       "      <td>-17.665</td>\n",
       "      <td>0.0307</td>\n",
       "      <td>0.9590</td>\n",
       "      <td>0.000001</td>\n",
       "      <td>0.0980</td>\n",
       "      <td>0.142</td>\n",
       "      <td>78.403</td>\n",
       "      <td>6wf7Yu7cxBSPrRlWeSeK0Q</td>\n",
       "    </tr>\n",
       "  </tbody>\n",
       "</table>\n",
       "<p>34181 rows × 10 columns</p>\n",
       "</div>"
      ],
      "text/plain": [
       "       danceability  energy  loudness  speechiness  acousticness  \\\n",
       "0             0.615  0.7790    -6.454       0.1350        0.0665   \n",
       "1             0.687  0.8450    -4.370       0.0576        0.1000   \n",
       "2             0.818  0.8030    -4.282       0.0797        0.0340   \n",
       "3             0.624  0.8760    -3.374       0.1000        0.0735   \n",
       "4             0.614  0.3790   -10.480       0.0476        0.6070   \n",
       "...             ...     ...       ...          ...           ...   \n",
       "34176         0.608  0.7450    -4.130       0.0277        0.0226   \n",
       "34177         0.467  0.8280    -2.220       0.0489        0.1810   \n",
       "34178         0.545  0.7790    -6.235       0.0751        0.2430   \n",
       "34179         0.539  0.5080    -6.050       0.0288        0.7270   \n",
       "34180         0.444  0.0911   -17.665       0.0307        0.9590   \n",
       "\n",
       "       instrumentalness  liveness  valence    tempo                      id  \n",
       "0              0.000000    0.1550    0.453  160.000  7zgqtptZvhf8GEmdsM2vp2  \n",
       "1              0.000000    0.0452    0.809   87.972  4Vxu50qVrQcycjRyJQaZLC  \n",
       "2              0.000000    0.1530    0.632  106.970  6b8Be6ljOzmkOmFslEb23P  \n",
       "3              0.000000    0.3270    0.781   99.943  0afhq8XCExXpqazXczTSve  \n",
       "4              0.000464    0.0986    0.201  107.989  1HNkqx9Ahdgi1Ixy2xkKkL  \n",
       "...                 ...       ...      ...      ...                     ...  \n",
       "34176          0.000006    0.0942    0.464  102.025  48UKTR66uUOT9LaUvooTNx  \n",
       "34177          0.000000    0.1020    0.334   79.978  3nhGk6VnrDHy67pXvMhdPa  \n",
       "34178          0.000002    0.1230    0.303  150.002  1DmW5Ep6ywYwxc2HMT5BG6  \n",
       "34179          0.000000    0.1740    0.227  101.358  0T5iIrXA4p5GsubkhuBIKV  \n",
       "34180          0.000001    0.0980    0.142   78.403  6wf7Yu7cxBSPrRlWeSeK0Q  \n",
       "\n",
       "[34181 rows x 10 columns]"
      ]
     },
     "execution_count": 7,
     "metadata": {},
     "output_type": "execute_result"
    }
   ],
   "source": [
    "X"
   ]
  },
  {
   "cell_type": "code",
   "execution_count": 8,
   "metadata": {
    "colab": {
     "base_uri": "https://localhost:8080/",
     "height": 319
    },
    "executionInfo": {
     "elapsed": 226,
     "status": "ok",
     "timestamp": 1623847356617,
     "user": {
      "displayName": "Ignacio Soteras",
      "photoUrl": "",
      "userId": "02050793736257155229"
     },
     "user_tz": -120
    },
    "id": "HwrUhwwcgRkP",
    "outputId": "006111e0-116d-4087-aaca-88219c7567de",
    "tags": []
   },
   "outputs": [
    {
     "data": {
      "text/html": [
       "<div>\n",
       "<style scoped>\n",
       "    .dataframe tbody tr th:only-of-type {\n",
       "        vertical-align: middle;\n",
       "    }\n",
       "\n",
       "    .dataframe tbody tr th {\n",
       "        vertical-align: top;\n",
       "    }\n",
       "\n",
       "    .dataframe thead th {\n",
       "        text-align: right;\n",
       "    }\n",
       "</style>\n",
       "<table border=\"1\" class=\"dataframe\">\n",
       "  <thead>\n",
       "    <tr style=\"text-align: right;\">\n",
       "      <th></th>\n",
       "      <th>danceability</th>\n",
       "      <th>energy</th>\n",
       "      <th>loudness</th>\n",
       "      <th>speechiness</th>\n",
       "      <th>acousticness</th>\n",
       "      <th>instrumentalness</th>\n",
       "      <th>liveness</th>\n",
       "      <th>valence</th>\n",
       "      <th>tempo</th>\n",
       "    </tr>\n",
       "  </thead>\n",
       "  <tbody>\n",
       "    <tr>\n",
       "      <th>count</th>\n",
       "      <td>34181.000000</td>\n",
       "      <td>34181.000000</td>\n",
       "      <td>34181.000000</td>\n",
       "      <td>34181.000000</td>\n",
       "      <td>34181.000000</td>\n",
       "      <td>34181.000000</td>\n",
       "      <td>34181.000000</td>\n",
       "      <td>34181.000000</td>\n",
       "      <td>34181.000000</td>\n",
       "    </tr>\n",
       "    <tr>\n",
       "      <th>mean</th>\n",
       "      <td>0.578081</td>\n",
       "      <td>0.654575</td>\n",
       "      <td>-7.868347</td>\n",
       "      <td>0.072020</td>\n",
       "      <td>0.246159</td>\n",
       "      <td>0.098012</td>\n",
       "      <td>0.191394</td>\n",
       "      <td>0.512242</td>\n",
       "      <td>121.376052</td>\n",
       "    </tr>\n",
       "    <tr>\n",
       "      <th>std</th>\n",
       "      <td>0.161977</td>\n",
       "      <td>0.224340</td>\n",
       "      <td>4.084386</td>\n",
       "      <td>0.076509</td>\n",
       "      <td>0.293147</td>\n",
       "      <td>0.238527</td>\n",
       "      <td>0.160126</td>\n",
       "      <td>0.252120</td>\n",
       "      <td>27.770202</td>\n",
       "    </tr>\n",
       "    <tr>\n",
       "      <th>min</th>\n",
       "      <td>0.000000</td>\n",
       "      <td>0.000000</td>\n",
       "      <td>-60.000000</td>\n",
       "      <td>0.000000</td>\n",
       "      <td>0.000000</td>\n",
       "      <td>0.000000</td>\n",
       "      <td>0.000000</td>\n",
       "      <td>0.000000</td>\n",
       "      <td>0.000000</td>\n",
       "    </tr>\n",
       "    <tr>\n",
       "      <th>25%</th>\n",
       "      <td>0.474000</td>\n",
       "      <td>0.510000</td>\n",
       "      <td>-9.717000</td>\n",
       "      <td>0.033900</td>\n",
       "      <td>0.015500</td>\n",
       "      <td>0.000000</td>\n",
       "      <td>0.093600</td>\n",
       "      <td>0.313000</td>\n",
       "      <td>100.610000</td>\n",
       "    </tr>\n",
       "    <tr>\n",
       "      <th>50%</th>\n",
       "      <td>0.589000</td>\n",
       "      <td>0.696000</td>\n",
       "      <td>-6.929000</td>\n",
       "      <td>0.044600</td>\n",
       "      <td>0.104000</td>\n",
       "      <td>0.000073</td>\n",
       "      <td>0.126000</td>\n",
       "      <td>0.511000</td>\n",
       "      <td>120.507000</td>\n",
       "    </tr>\n",
       "    <tr>\n",
       "      <th>75%</th>\n",
       "      <td>0.694000</td>\n",
       "      <td>0.835000</td>\n",
       "      <td>-5.079000</td>\n",
       "      <td>0.072500</td>\n",
       "      <td>0.407000</td>\n",
       "      <td>0.014000</td>\n",
       "      <td>0.246000</td>\n",
       "      <td>0.718000</td>\n",
       "      <td>137.074000</td>\n",
       "    </tr>\n",
       "    <tr>\n",
       "      <th>max</th>\n",
       "      <td>0.980000</td>\n",
       "      <td>1.000000</td>\n",
       "      <td>1.342000</td>\n",
       "      <td>0.963000</td>\n",
       "      <td>0.996000</td>\n",
       "      <td>0.999000</td>\n",
       "      <td>0.997000</td>\n",
       "      <td>0.994000</td>\n",
       "      <td>240.107000</td>\n",
       "    </tr>\n",
       "  </tbody>\n",
       "</table>\n",
       "</div>"
      ],
      "text/plain": [
       "       danceability        energy      loudness   speechiness  acousticness  \\\n",
       "count  34181.000000  34181.000000  34181.000000  34181.000000  34181.000000   \n",
       "mean       0.578081      0.654575     -7.868347      0.072020      0.246159   \n",
       "std        0.161977      0.224340      4.084386      0.076509      0.293147   \n",
       "min        0.000000      0.000000    -60.000000      0.000000      0.000000   \n",
       "25%        0.474000      0.510000     -9.717000      0.033900      0.015500   \n",
       "50%        0.589000      0.696000     -6.929000      0.044600      0.104000   \n",
       "75%        0.694000      0.835000     -5.079000      0.072500      0.407000   \n",
       "max        0.980000      1.000000      1.342000      0.963000      0.996000   \n",
       "\n",
       "       instrumentalness      liveness       valence         tempo  \n",
       "count      34181.000000  34181.000000  34181.000000  34181.000000  \n",
       "mean           0.098012      0.191394      0.512242    121.376052  \n",
       "std            0.238527      0.160126      0.252120     27.770202  \n",
       "min            0.000000      0.000000      0.000000      0.000000  \n",
       "25%            0.000000      0.093600      0.313000    100.610000  \n",
       "50%            0.000073      0.126000      0.511000    120.507000  \n",
       "75%            0.014000      0.246000      0.718000    137.074000  \n",
       "max            0.999000      0.997000      0.994000    240.107000  "
      ]
     },
     "execution_count": 8,
     "metadata": {},
     "output_type": "execute_result"
    }
   ],
   "source": [
    "X.describe()"
   ]
  },
  {
   "cell_type": "markdown",
   "metadata": {
    "id": "m9xNyIF4gKd4"
   },
   "source": [
    "The scale of \"proline\" is much bigger than the scale of many other variable!\n",
    "\n",
    "**K-Means is a distance based algorithm**: we need to scale / normalize!:"
   ]
  },
  {
   "cell_type": "code",
   "execution_count": 9,
   "metadata": {
    "tags": []
   },
   "outputs": [],
   "source": [
    "X_num = X.select_dtypes(np.number)"
   ]
  },
  {
   "cell_type": "code",
   "execution_count": 10,
   "metadata": {
    "colab": {
     "base_uri": "https://localhost:8080/",
     "height": 431
    },
    "executionInfo": {
     "elapsed": 206,
     "status": "ok",
     "timestamp": 1623847766918,
     "user": {
      "displayName": "Ignacio Soteras",
      "photoUrl": "",
      "userId": "02050793736257155229"
     },
     "user_tz": -120
    },
    "id": "8V86cFdpgJrd",
    "outputId": "b3a8d5a2-a380-4545-a06e-a6487daf3601",
    "tags": []
   },
   "outputs": [
    {
     "name": "stdout",
     "output_type": "stream",
     "text": [
      "\n"
     ]
    },
    {
     "data": {
      "text/html": [
       "<div>\n",
       "<style scoped>\n",
       "    .dataframe tbody tr th:only-of-type {\n",
       "        vertical-align: middle;\n",
       "    }\n",
       "\n",
       "    .dataframe tbody tr th {\n",
       "        vertical-align: top;\n",
       "    }\n",
       "\n",
       "    .dataframe thead th {\n",
       "        text-align: right;\n",
       "    }\n",
       "</style>\n",
       "<table border=\"1\" class=\"dataframe\">\n",
       "  <thead>\n",
       "    <tr style=\"text-align: right;\">\n",
       "      <th></th>\n",
       "      <th>danceability</th>\n",
       "      <th>energy</th>\n",
       "      <th>loudness</th>\n",
       "      <th>speechiness</th>\n",
       "      <th>acousticness</th>\n",
       "      <th>instrumentalness</th>\n",
       "      <th>liveness</th>\n",
       "      <th>valence</th>\n",
       "      <th>tempo</th>\n",
       "    </tr>\n",
       "  </thead>\n",
       "  <tbody>\n",
       "    <tr>\n",
       "      <th>0</th>\n",
       "      <td>0.227928</td>\n",
       "      <td>0.554635</td>\n",
       "      <td>0.346286</td>\n",
       "      <td>0.823181</td>\n",
       "      <td>-0.612872</td>\n",
       "      <td>-0.410910</td>\n",
       "      <td>-0.227288</td>\n",
       "      <td>-0.234979</td>\n",
       "      <td>1.390862</td>\n",
       "    </tr>\n",
       "    <tr>\n",
       "      <th>1</th>\n",
       "      <td>0.672441</td>\n",
       "      <td>0.848835</td>\n",
       "      <td>0.856530</td>\n",
       "      <td>-0.188474</td>\n",
       "      <td>-0.498593</td>\n",
       "      <td>-0.410910</td>\n",
       "      <td>-0.913009</td>\n",
       "      <td>1.177067</td>\n",
       "      <td>-1.202892</td>\n",
       "    </tr>\n",
       "    <tr>\n",
       "      <th>2</th>\n",
       "      <td>1.481207</td>\n",
       "      <td>0.661617</td>\n",
       "      <td>0.878076</td>\n",
       "      <td>0.100384</td>\n",
       "      <td>-0.723739</td>\n",
       "      <td>-0.410910</td>\n",
       "      <td>-0.239778</td>\n",
       "      <td>0.475010</td>\n",
       "      <td>-0.518767</td>\n",
       "    </tr>\n",
       "    <tr>\n",
       "      <th>3</th>\n",
       "      <td>0.283492</td>\n",
       "      <td>0.987020</td>\n",
       "      <td>1.100389</td>\n",
       "      <td>0.365714</td>\n",
       "      <td>-0.588993</td>\n",
       "      <td>-0.410910</td>\n",
       "      <td>0.846883</td>\n",
       "      <td>1.066008</td>\n",
       "      <td>-0.771812</td>\n",
       "    </tr>\n",
       "    <tr>\n",
       "      <th>4</th>\n",
       "      <td>0.221754</td>\n",
       "      <td>-1.228395</td>\n",
       "      <td>-0.639433</td>\n",
       "      <td>-0.319179</td>\n",
       "      <td>1.230940</td>\n",
       "      <td>-0.408964</td>\n",
       "      <td>-0.579516</td>\n",
       "      <td>-1.234518</td>\n",
       "      <td>-0.482072</td>\n",
       "    </tr>\n",
       "  </tbody>\n",
       "</table>\n",
       "</div>"
      ],
      "text/plain": [
       "   danceability    energy  loudness  speechiness  acousticness  \\\n",
       "0      0.227928  0.554635  0.346286     0.823181     -0.612872   \n",
       "1      0.672441  0.848835  0.856530    -0.188474     -0.498593   \n",
       "2      1.481207  0.661617  0.878076     0.100384     -0.723739   \n",
       "3      0.283492  0.987020  1.100389     0.365714     -0.588993   \n",
       "4      0.221754 -1.228395 -0.639433    -0.319179      1.230940   \n",
       "\n",
       "   instrumentalness  liveness   valence     tempo  \n",
       "0         -0.410910 -0.227288 -0.234979  1.390862  \n",
       "1         -0.410910 -0.913009  1.177067 -1.202892  \n",
       "2         -0.410910 -0.239778  0.475010 -0.518767  \n",
       "3         -0.410910  0.846883  1.066008 -0.771812  \n",
       "4         -0.408964 -0.579516 -1.234518 -0.482072  "
      ]
     },
     "metadata": {},
     "output_type": "display_data"
    }
   ],
   "source": [
    "scaler = StandardScaler()\n",
    "scaler.fit(X_num)\n",
    "X_scaled = scaler.transform(X_num)\n",
    "X_scaled_df = pd.DataFrame(X_scaled, columns = X_num.columns)\n",
    "#display(X.head())\n",
    "print()\n",
    "display(X_scaled_df.head())"
   ]
  },
  {
   "cell_type": "code",
   "execution_count": 11,
   "metadata": {
    "colab": {
     "base_uri": "https://localhost:8080/",
     "height": 319
    },
    "executionInfo": {
     "elapsed": 221,
     "status": "ok",
     "timestamp": 1623847821073,
     "user": {
      "displayName": "Ignacio Soteras",
      "photoUrl": "",
      "userId": "02050793736257155229"
     },
     "user_tz": -120
    },
    "id": "INQdugXS3zPO",
    "outputId": "cc49e206-ecd0-4804-c96f-86f159b6b9cf",
    "tags": []
   },
   "outputs": [
    {
     "data": {
      "text/html": [
       "<div>\n",
       "<style scoped>\n",
       "    .dataframe tbody tr th:only-of-type {\n",
       "        vertical-align: middle;\n",
       "    }\n",
       "\n",
       "    .dataframe tbody tr th {\n",
       "        vertical-align: top;\n",
       "    }\n",
       "\n",
       "    .dataframe thead th {\n",
       "        text-align: right;\n",
       "    }\n",
       "</style>\n",
       "<table border=\"1\" class=\"dataframe\">\n",
       "  <thead>\n",
       "    <tr style=\"text-align: right;\">\n",
       "      <th></th>\n",
       "      <th>danceability</th>\n",
       "      <th>energy</th>\n",
       "      <th>loudness</th>\n",
       "      <th>speechiness</th>\n",
       "      <th>acousticness</th>\n",
       "      <th>instrumentalness</th>\n",
       "      <th>liveness</th>\n",
       "      <th>valence</th>\n",
       "      <th>tempo</th>\n",
       "    </tr>\n",
       "  </thead>\n",
       "  <tbody>\n",
       "    <tr>\n",
       "      <th>count</th>\n",
       "      <td>3.418100e+04</td>\n",
       "      <td>3.418100e+04</td>\n",
       "      <td>3.418100e+04</td>\n",
       "      <td>3.418100e+04</td>\n",
       "      <td>3.418100e+04</td>\n",
       "      <td>3.418100e+04</td>\n",
       "      <td>3.418100e+04</td>\n",
       "      <td>3.418100e+04</td>\n",
       "      <td>3.418100e+04</td>\n",
       "    </tr>\n",
       "    <tr>\n",
       "      <th>mean</th>\n",
       "      <td>-4.831050e-16</td>\n",
       "      <td>-7.150952e-17</td>\n",
       "      <td>8.938690e-17</td>\n",
       "      <td>-2.161916e-17</td>\n",
       "      <td>-3.326024e-18</td>\n",
       "      <td>2.328217e-17</td>\n",
       "      <td>-6.111570e-17</td>\n",
       "      <td>-8.813964e-17</td>\n",
       "      <td>1.172424e-16</td>\n",
       "    </tr>\n",
       "    <tr>\n",
       "      <th>std</th>\n",
       "      <td>1.000015e+00</td>\n",
       "      <td>1.000015e+00</td>\n",
       "      <td>1.000015e+00</td>\n",
       "      <td>1.000015e+00</td>\n",
       "      <td>1.000015e+00</td>\n",
       "      <td>1.000015e+00</td>\n",
       "      <td>1.000015e+00</td>\n",
       "      <td>1.000015e+00</td>\n",
       "      <td>1.000015e+00</td>\n",
       "    </tr>\n",
       "    <tr>\n",
       "      <th>min</th>\n",
       "      <td>-3.568955e+00</td>\n",
       "      <td>-2.917817e+00</td>\n",
       "      <td>-1.276383e+01</td>\n",
       "      <td>-9.413338e-01</td>\n",
       "      <td>-8.397237e-01</td>\n",
       "      <td>-4.109097e-01</td>\n",
       "      <td>-1.195291e+00</td>\n",
       "      <td>-2.031769e+00</td>\n",
       "      <td>-4.370794e+00</td>\n",
       "    </tr>\n",
       "    <tr>\n",
       "      <th>25%</th>\n",
       "      <td>-6.425770e-01</td>\n",
       "      <td>-6.444530e-01</td>\n",
       "      <td>-4.526214e-01</td>\n",
       "      <td>-4.982445e-01</td>\n",
       "      <td>-7.868485e-01</td>\n",
       "      <td>-4.109097e-01</td>\n",
       "      <td>-6.107421e-01</td>\n",
       "      <td>-7.902787e-01</td>\n",
       "      <td>-7.477927e-01</td>\n",
       "    </tr>\n",
       "    <tr>\n",
       "      <th>50%</th>\n",
       "      <td>6.740908e-02</td>\n",
       "      <td>1.846560e-01</td>\n",
       "      <td>2.299882e-01</td>\n",
       "      <td>-3.583903e-01</td>\n",
       "      <td>-4.849478e-01</td>\n",
       "      <td>-4.106037e-01</td>\n",
       "      <td>-4.083982e-01</td>\n",
       "      <td>-4.926788e-03</td>\n",
       "      <td>-3.129486e-02</td>\n",
       "    </tr>\n",
       "    <tr>\n",
       "      <th>75%</th>\n",
       "      <td>7.156573e-01</td>\n",
       "      <td>8.042590e-01</td>\n",
       "      <td>6.829393e-01</td>\n",
       "      <td>6.276094e-03</td>\n",
       "      <td>5.486782e-01</td>\n",
       "      <td>-3.522154e-01</td>\n",
       "      <td>3.410233e-01</td>\n",
       "      <td>8.161229e-01</td>\n",
       "      <td>5.652886e-01</td>\n",
       "    </tr>\n",
       "    <tr>\n",
       "      <th>max</th>\n",
       "      <td>2.481362e+00</td>\n",
       "      <td>1.539759e+00</td>\n",
       "      <td>2.255047e+00</td>\n",
       "      <td>1.164554e+01</td>\n",
       "      <td>2.557938e+00</td>\n",
       "      <td>3.777354e+00</td>\n",
       "      <td>5.031153e+00</td>\n",
       "      <td>1.910856e+00</td>\n",
       "      <td>4.275543e+00</td>\n",
       "    </tr>\n",
       "  </tbody>\n",
       "</table>\n",
       "</div>"
      ],
      "text/plain": [
       "       danceability        energy      loudness   speechiness  acousticness  \\\n",
       "count  3.418100e+04  3.418100e+04  3.418100e+04  3.418100e+04  3.418100e+04   \n",
       "mean  -4.831050e-16 -7.150952e-17  8.938690e-17 -2.161916e-17 -3.326024e-18   \n",
       "std    1.000015e+00  1.000015e+00  1.000015e+00  1.000015e+00  1.000015e+00   \n",
       "min   -3.568955e+00 -2.917817e+00 -1.276383e+01 -9.413338e-01 -8.397237e-01   \n",
       "25%   -6.425770e-01 -6.444530e-01 -4.526214e-01 -4.982445e-01 -7.868485e-01   \n",
       "50%    6.740908e-02  1.846560e-01  2.299882e-01 -3.583903e-01 -4.849478e-01   \n",
       "75%    7.156573e-01  8.042590e-01  6.829393e-01  6.276094e-03  5.486782e-01   \n",
       "max    2.481362e+00  1.539759e+00  2.255047e+00  1.164554e+01  2.557938e+00   \n",
       "\n",
       "       instrumentalness      liveness       valence         tempo  \n",
       "count      3.418100e+04  3.418100e+04  3.418100e+04  3.418100e+04  \n",
       "mean       2.328217e-17 -6.111570e-17 -8.813964e-17  1.172424e-16  \n",
       "std        1.000015e+00  1.000015e+00  1.000015e+00  1.000015e+00  \n",
       "min       -4.109097e-01 -1.195291e+00 -2.031769e+00 -4.370794e+00  \n",
       "25%       -4.109097e-01 -6.107421e-01 -7.902787e-01 -7.477927e-01  \n",
       "50%       -4.106037e-01 -4.083982e-01 -4.926788e-03 -3.129486e-02  \n",
       "75%       -3.522154e-01  3.410233e-01  8.161229e-01  5.652886e-01  \n",
       "max        3.777354e+00  5.031153e+00  1.910856e+00  4.275543e+00  "
      ]
     },
     "execution_count": 11,
     "metadata": {},
     "output_type": "execute_result"
    }
   ],
   "source": [
    "X_scaled_df.describe()"
   ]
  },
  {
   "cell_type": "markdown",
   "metadata": {
    "id": "1XaQQHyJghB8"
   },
   "source": [
    "Now, all features will have the same weight."
   ]
  },
  {
   "cell_type": "markdown",
   "metadata": {
    "id": "W8zgKxQKhBUr"
   },
   "source": [
    "## Clustering the wines with K-Means"
   ]
  },
  {
   "cell_type": "markdown",
   "metadata": {
    "id": "onOxY0YJhSOv"
   },
   "source": [
    "We will pick manually the number of clusters we want - let's set it to 8. Later we will discuss how many clusters should we have.\n",
    "\n",
    "When randomness is involved (remember, **K-means picks randomly the initial centroids**), we better use a random seed so that we can reproduce our results. We can set this directly to the argument **random_state**."
   ]
  },
  {
   "cell_type": "code",
   "execution_count": 12,
   "metadata": {
    "colab": {
     "base_uri": "https://localhost:8080/"
    },
    "executionInfo": {
     "elapsed": 208,
     "status": "ok",
     "timestamp": 1623848315608,
     "user": {
      "displayName": "Ignacio Soteras",
      "photoUrl": "",
      "userId": "02050793736257155229"
     },
     "user_tz": -120
    },
    "id": "qS4o_tT1hGAG",
    "outputId": "eecc7527-b3df-4576-f931-881e198c2166",
    "tags": []
   },
   "outputs": [
    {
     "name": "stderr",
     "output_type": "stream",
     "text": [
      "/Users/philipplangfeldt/miniforge3/envs/iron_hack/lib/python3.9/site-packages/sklearn/cluster/_kmeans.py:870: FutureWarning: The default value of `n_init` will change from 10 to 'auto' in 1.4. Set the value of `n_init` explicitly to suppress the warning\n",
      "  warnings.warn(\n"
     ]
    },
    {
     "data": {
      "text/html": [
       "<style>#sk-container-id-1 {color: black;background-color: white;}#sk-container-id-1 pre{padding: 0;}#sk-container-id-1 div.sk-toggleable {background-color: white;}#sk-container-id-1 label.sk-toggleable__label {cursor: pointer;display: block;width: 100%;margin-bottom: 0;padding: 0.3em;box-sizing: border-box;text-align: center;}#sk-container-id-1 label.sk-toggleable__label-arrow:before {content: \"▸\";float: left;margin-right: 0.25em;color: #696969;}#sk-container-id-1 label.sk-toggleable__label-arrow:hover:before {color: black;}#sk-container-id-1 div.sk-estimator:hover label.sk-toggleable__label-arrow:before {color: black;}#sk-container-id-1 div.sk-toggleable__content {max-height: 0;max-width: 0;overflow: hidden;text-align: left;background-color: #f0f8ff;}#sk-container-id-1 div.sk-toggleable__content pre {margin: 0.2em;color: black;border-radius: 0.25em;background-color: #f0f8ff;}#sk-container-id-1 input.sk-toggleable__control:checked~div.sk-toggleable__content {max-height: 200px;max-width: 100%;overflow: auto;}#sk-container-id-1 input.sk-toggleable__control:checked~label.sk-toggleable__label-arrow:before {content: \"▾\";}#sk-container-id-1 div.sk-estimator input.sk-toggleable__control:checked~label.sk-toggleable__label {background-color: #d4ebff;}#sk-container-id-1 div.sk-label input.sk-toggleable__control:checked~label.sk-toggleable__label {background-color: #d4ebff;}#sk-container-id-1 input.sk-hidden--visually {border: 0;clip: rect(1px 1px 1px 1px);clip: rect(1px, 1px, 1px, 1px);height: 1px;margin: -1px;overflow: hidden;padding: 0;position: absolute;width: 1px;}#sk-container-id-1 div.sk-estimator {font-family: monospace;background-color: #f0f8ff;border: 1px dotted black;border-radius: 0.25em;box-sizing: border-box;margin-bottom: 0.5em;}#sk-container-id-1 div.sk-estimator:hover {background-color: #d4ebff;}#sk-container-id-1 div.sk-parallel-item::after {content: \"\";width: 100%;border-bottom: 1px solid gray;flex-grow: 1;}#sk-container-id-1 div.sk-label:hover label.sk-toggleable__label {background-color: #d4ebff;}#sk-container-id-1 div.sk-serial::before {content: \"\";position: absolute;border-left: 1px solid gray;box-sizing: border-box;top: 0;bottom: 0;left: 50%;z-index: 0;}#sk-container-id-1 div.sk-serial {display: flex;flex-direction: column;align-items: center;background-color: white;padding-right: 0.2em;padding-left: 0.2em;position: relative;}#sk-container-id-1 div.sk-item {position: relative;z-index: 1;}#sk-container-id-1 div.sk-parallel {display: flex;align-items: stretch;justify-content: center;background-color: white;position: relative;}#sk-container-id-1 div.sk-item::before, #sk-container-id-1 div.sk-parallel-item::before {content: \"\";position: absolute;border-left: 1px solid gray;box-sizing: border-box;top: 0;bottom: 0;left: 50%;z-index: -1;}#sk-container-id-1 div.sk-parallel-item {display: flex;flex-direction: column;z-index: 1;position: relative;background-color: white;}#sk-container-id-1 div.sk-parallel-item:first-child::after {align-self: flex-end;width: 50%;}#sk-container-id-1 div.sk-parallel-item:last-child::after {align-self: flex-start;width: 50%;}#sk-container-id-1 div.sk-parallel-item:only-child::after {width: 0;}#sk-container-id-1 div.sk-dashed-wrapped {border: 1px dashed gray;margin: 0 0.4em 0.5em 0.4em;box-sizing: border-box;padding-bottom: 0.4em;background-color: white;}#sk-container-id-1 div.sk-label label {font-family: monospace;font-weight: bold;display: inline-block;line-height: 1.2em;}#sk-container-id-1 div.sk-label-container {text-align: center;}#sk-container-id-1 div.sk-container {/* jupyter's `normalize.less` sets `[hidden] { display: none; }` but bootstrap.min.css set `[hidden] { display: none !important; }` so we also need the `!important` here to be able to override the default hidden behavior on the sphinx rendered scikit-learn.org. See: https://github.com/scikit-learn/scikit-learn/issues/21755 */display: inline-block !important;position: relative;}#sk-container-id-1 div.sk-text-repr-fallback {display: none;}</style><div id=\"sk-container-id-1\" class=\"sk-top-container\"><div class=\"sk-text-repr-fallback\"><pre>KMeans(n_clusters=3, random_state=1234)</pre><b>In a Jupyter environment, please rerun this cell to show the HTML representation or trust the notebook. <br />On GitHub, the HTML representation is unable to render, please try loading this page with nbviewer.org.</b></div><div class=\"sk-container\" hidden><div class=\"sk-item\"><div class=\"sk-estimator sk-toggleable\"><input class=\"sk-toggleable__control sk-hidden--visually\" id=\"sk-estimator-id-1\" type=\"checkbox\" checked><label for=\"sk-estimator-id-1\" class=\"sk-toggleable__label sk-toggleable__label-arrow\">KMeans</label><div class=\"sk-toggleable__content\"><pre>KMeans(n_clusters=3, random_state=1234)</pre></div></div></div></div></div>"
      ],
      "text/plain": [
       "KMeans(n_clusters=3, random_state=1234)"
      ]
     },
     "execution_count": 12,
     "metadata": {},
     "output_type": "execute_result"
    }
   ],
   "source": [
    "kmeans = KMeans(n_clusters=3, random_state=1234)\n",
    "kmeans.fit(X_scaled_df)"
   ]
  },
  {
   "cell_type": "code",
   "execution_count": 18,
   "metadata": {
    "tags": []
   },
   "outputs": [
    {
     "data": {
      "text/plain": [
       "array([[ 0.22792768,  0.55463478,  0.34628646, ..., -0.22728803,\n",
       "        -0.23497937,  1.3908618 ],\n",
       "       [ 0.67244072,  0.84883476,  0.85652978, ..., -0.91300875,\n",
       "         1.17706749, -1.20289152],\n",
       "       [ 1.48120749,  0.66161659,  0.87807557, ..., -0.23977839,\n",
       "         0.47501049, -0.51876693],\n",
       "       ...,\n",
       "       [-0.20423777,  0.55463478,  0.39990608, ..., -0.42713377,\n",
       "        -0.82994293,  1.03083035],\n",
       "       [-0.24128053, -0.6533682 ,  0.44520119, ..., -0.10862961,\n",
       "        -1.13139114, -0.720857  ],\n",
       "       [-0.82779078, -2.51173144, -2.39859737, ..., -0.58326326,\n",
       "        -1.46853716, -1.54747453]])"
      ]
     },
     "execution_count": 18,
     "metadata": {},
     "output_type": "execute_result"
    }
   ],
   "source": [
    "X_scaled"
   ]
  },
  {
   "cell_type": "code",
   "execution_count": 14,
   "metadata": {
    "tags": []
   },
   "outputs": [
    {
     "data": {
      "text/plain": [
       "array([1, 0, 0, ..., 1, 2, 2], dtype=int32)"
      ]
     },
     "execution_count": 14,
     "metadata": {},
     "output_type": "execute_result"
    }
   ],
   "source": [
    "labels = kmeans.labels_\n",
    "labels"
   ]
  },
  {
   "cell_type": "code",
   "execution_count": 19,
   "metadata": {
    "tags": []
   },
   "outputs": [
    {
     "data": {
      "text/plain": [
       "array([0, 1, 2], dtype=int32)"
      ]
     },
     "execution_count": 19,
     "metadata": {},
     "output_type": "execute_result"
    }
   ],
   "source": [
    "np.unique(labels)"
   ]
  },
  {
   "cell_type": "code",
   "execution_count": 20,
   "metadata": {
    "tags": []
   },
   "outputs": [
    {
     "data": {
      "image/png": "[encoded data removed]",
      "text/plain": [
       "<Figure size 640x480 with 1 Axes>"
      ]
     },
     "metadata": {},
     "output_type": "display_data"
    }
   ],
   "source": [
    "# assign a cluster to each example\n",
    "labels = kmeans.predict(X_scaled_df)\n",
    "# retrieve unique clusters\n",
    "clusters = np.unique(labels)\n",
    "# create scatter plot for samples from each cluster\n",
    "for cluster in clusters:\n",
    "    # get row indexes for samples with this cluster\n",
    "    row_ix = np.where(labels == cluster)\n",
    "    # create scatter of these samples\n",
    "    pyplot.scatter(X.to_numpy()[row_ix, 1], X.to_numpy()[row_ix, 3])\n",
    "    # show the plot\n",
    "pyplot.show()"
   ]
  },
  {
   "cell_type": "markdown",
   "metadata": {
    "id": "27Ab6CkAhoOT"
   },
   "source": [
    "Now we have our \"model\", let's get the clusters and how many observations has each cluster."
   ]
  },
  {
   "cell_type": "code",
   "execution_count": 21,
   "metadata": {
    "colab": {
     "base_uri": "https://localhost:8080/"
    },
    "executionInfo": {
     "elapsed": 280,
     "status": "ok",
     "timestamp": 1623848518689,
     "user": {
      "displayName": "Ignacio Soteras",
      "photoUrl": "",
      "userId": "02050793736257155229"
     },
     "user_tz": -120
    },
    "id": "jHfWQSmth9yR",
    "outputId": "d952adf3-9ced-4a61-dc93-14ed804a4fe1",
    "tags": []
   },
   "outputs": [
    {
     "data": {
      "text/plain": [
       "0    14932\n",
       "1    11967\n",
       "2     7282\n",
       "dtype: int64"
      ]
     },
     "execution_count": 21,
     "metadata": {},
     "output_type": "execute_result"
    }
   ],
   "source": [
    "clusters = kmeans.predict(X_scaled_df)\n",
    "#clusters\n",
    "pd.Series(clusters).value_counts().sort_index()"
   ]
  },
  {
   "cell_type": "code",
   "execution_count": 22,
   "metadata": {
    "tags": []
   },
   "outputs": [
    {
     "data": {
      "text/plain": [
       "array([1, 0, 0, ..., 1, 2, 2], dtype=int32)"
      ]
     },
     "execution_count": 22,
     "metadata": {},
     "output_type": "execute_result"
    }
   ],
   "source": [
    "clusters"
   ]
  },
  {
   "cell_type": "markdown",
   "metadata": {
    "id": "R7K3uJuPimcS"
   },
   "source": [
    "Now let's see to which group was assigned every wine."
   ]
  },
  {
   "cell_type": "code",
   "execution_count": 23,
   "metadata": {
    "colab": {
     "base_uri": "https://localhost:8080/",
     "height": 225
    },
    "executionInfo": {
     "elapsed": 234,
     "status": "ok",
     "timestamp": 1623848601645,
     "user": {
      "displayName": "Ignacio Soteras",
      "photoUrl": "",
      "userId": "02050793736257155229"
     },
     "user_tz": -120
    },
    "id": "RmWPL4DjiyIP",
    "outputId": "b1a15218-8112-4e6f-c87a-f6e4a972080d",
    "tags": []
   },
   "outputs": [
    {
     "name": "stderr",
     "output_type": "stream",
     "text": [
      "/var/folders/jz/4s7l0kcd7s57bvmy1ldx3n600000gn/T/ipykernel_2092/3390344749.py:2: SettingWithCopyWarning: \n",
      "A value is trying to be set on a copy of a slice from a DataFrame.\n",
      "Try using .loc[row_indexer,col_indexer] = value instead\n",
      "\n",
      "See the caveats in the documentation: https://pandas.pydata.org/pandas-docs/stable/user_guide/indexing.html#returning-a-view-versus-a-copy\n",
      "  X[\"cluster\"] = clusters\n"
     ]
    },
    {
     "data": {
      "text/html": [
       "<div>\n",
       "<style scoped>\n",
       "    .dataframe tbody tr th:only-of-type {\n",
       "        vertical-align: middle;\n",
       "    }\n",
       "\n",
       "    .dataframe tbody tr th {\n",
       "        vertical-align: top;\n",
       "    }\n",
       "\n",
       "    .dataframe thead th {\n",
       "        text-align: right;\n",
       "    }\n",
       "</style>\n",
       "<table border=\"1\" class=\"dataframe\">\n",
       "  <thead>\n",
       "    <tr style=\"text-align: right;\">\n",
       "      <th></th>\n",
       "      <th>danceability</th>\n",
       "      <th>energy</th>\n",
       "      <th>loudness</th>\n",
       "      <th>speechiness</th>\n",
       "      <th>acousticness</th>\n",
       "      <th>instrumentalness</th>\n",
       "      <th>liveness</th>\n",
       "      <th>valence</th>\n",
       "      <th>tempo</th>\n",
       "      <th>id</th>\n",
       "      <th>cluster</th>\n",
       "    </tr>\n",
       "  </thead>\n",
       "  <tbody>\n",
       "    <tr>\n",
       "      <th>0</th>\n",
       "      <td>0.615</td>\n",
       "      <td>0.7790</td>\n",
       "      <td>-6.454</td>\n",
       "      <td>0.1350</td>\n",
       "      <td>0.0665</td>\n",
       "      <td>0.000000</td>\n",
       "      <td>0.1550</td>\n",
       "      <td>0.453</td>\n",
       "      <td>160.000</td>\n",
       "      <td>7zgqtptZvhf8GEmdsM2vp2</td>\n",
       "      <td>1</td>\n",
       "    </tr>\n",
       "    <tr>\n",
       "      <th>1</th>\n",
       "      <td>0.687</td>\n",
       "      <td>0.8450</td>\n",
       "      <td>-4.370</td>\n",
       "      <td>0.0576</td>\n",
       "      <td>0.1000</td>\n",
       "      <td>0.000000</td>\n",
       "      <td>0.0452</td>\n",
       "      <td>0.809</td>\n",
       "      <td>87.972</td>\n",
       "      <td>4Vxu50qVrQcycjRyJQaZLC</td>\n",
       "      <td>0</td>\n",
       "    </tr>\n",
       "    <tr>\n",
       "      <th>2</th>\n",
       "      <td>0.818</td>\n",
       "      <td>0.8030</td>\n",
       "      <td>-4.282</td>\n",
       "      <td>0.0797</td>\n",
       "      <td>0.0340</td>\n",
       "      <td>0.000000</td>\n",
       "      <td>0.1530</td>\n",
       "      <td>0.632</td>\n",
       "      <td>106.970</td>\n",
       "      <td>6b8Be6ljOzmkOmFslEb23P</td>\n",
       "      <td>0</td>\n",
       "    </tr>\n",
       "    <tr>\n",
       "      <th>3</th>\n",
       "      <td>0.624</td>\n",
       "      <td>0.8760</td>\n",
       "      <td>-3.374</td>\n",
       "      <td>0.1000</td>\n",
       "      <td>0.0735</td>\n",
       "      <td>0.000000</td>\n",
       "      <td>0.3270</td>\n",
       "      <td>0.781</td>\n",
       "      <td>99.943</td>\n",
       "      <td>0afhq8XCExXpqazXczTSve</td>\n",
       "      <td>0</td>\n",
       "    </tr>\n",
       "    <tr>\n",
       "      <th>4</th>\n",
       "      <td>0.614</td>\n",
       "      <td>0.3790</td>\n",
       "      <td>-10.480</td>\n",
       "      <td>0.0476</td>\n",
       "      <td>0.6070</td>\n",
       "      <td>0.000464</td>\n",
       "      <td>0.0986</td>\n",
       "      <td>0.201</td>\n",
       "      <td>107.989</td>\n",
       "      <td>1HNkqx9Ahdgi1Ixy2xkKkL</td>\n",
       "      <td>2</td>\n",
       "    </tr>\n",
       "    <tr>\n",
       "      <th>...</th>\n",
       "      <td>...</td>\n",
       "      <td>...</td>\n",
       "      <td>...</td>\n",
       "      <td>...</td>\n",
       "      <td>...</td>\n",
       "      <td>...</td>\n",
       "      <td>...</td>\n",
       "      <td>...</td>\n",
       "      <td>...</td>\n",
       "      <td>...</td>\n",
       "      <td>...</td>\n",
       "    </tr>\n",
       "    <tr>\n",
       "      <th>34176</th>\n",
       "      <td>0.608</td>\n",
       "      <td>0.7450</td>\n",
       "      <td>-4.130</td>\n",
       "      <td>0.0277</td>\n",
       "      <td>0.0226</td>\n",
       "      <td>0.000006</td>\n",
       "      <td>0.0942</td>\n",
       "      <td>0.464</td>\n",
       "      <td>102.025</td>\n",
       "      <td>48UKTR66uUOT9LaUvooTNx</td>\n",
       "      <td>0</td>\n",
       "    </tr>\n",
       "    <tr>\n",
       "      <th>34177</th>\n",
       "      <td>0.467</td>\n",
       "      <td>0.8280</td>\n",
       "      <td>-2.220</td>\n",
       "      <td>0.0489</td>\n",
       "      <td>0.1810</td>\n",
       "      <td>0.000000</td>\n",
       "      <td>0.1020</td>\n",
       "      <td>0.334</td>\n",
       "      <td>79.978</td>\n",
       "      <td>3nhGk6VnrDHy67pXvMhdPa</td>\n",
       "      <td>1</td>\n",
       "    </tr>\n",
       "    <tr>\n",
       "      <th>34178</th>\n",
       "      <td>0.545</td>\n",
       "      <td>0.7790</td>\n",
       "      <td>-6.235</td>\n",
       "      <td>0.0751</td>\n",
       "      <td>0.2430</td>\n",
       "      <td>0.000002</td>\n",
       "      <td>0.1230</td>\n",
       "      <td>0.303</td>\n",
       "      <td>150.002</td>\n",
       "      <td>1DmW5Ep6ywYwxc2HMT5BG6</td>\n",
       "      <td>1</td>\n",
       "    </tr>\n",
       "    <tr>\n",
       "      <th>34179</th>\n",
       "      <td>0.539</td>\n",
       "      <td>0.5080</td>\n",
       "      <td>-6.050</td>\n",
       "      <td>0.0288</td>\n",
       "      <td>0.7270</td>\n",
       "      <td>0.000000</td>\n",
       "      <td>0.1740</td>\n",
       "      <td>0.227</td>\n",
       "      <td>101.358</td>\n",
       "      <td>0T5iIrXA4p5GsubkhuBIKV</td>\n",
       "      <td>2</td>\n",
       "    </tr>\n",
       "    <tr>\n",
       "      <th>34180</th>\n",
       "      <td>0.444</td>\n",
       "      <td>0.0911</td>\n",
       "      <td>-17.665</td>\n",
       "      <td>0.0307</td>\n",
       "      <td>0.9590</td>\n",
       "      <td>0.000001</td>\n",
       "      <td>0.0980</td>\n",
       "      <td>0.142</td>\n",
       "      <td>78.403</td>\n",
       "      <td>6wf7Yu7cxBSPrRlWeSeK0Q</td>\n",
       "      <td>2</td>\n",
       "    </tr>\n",
       "  </tbody>\n",
       "</table>\n",
       "<p>34181 rows × 11 columns</p>\n",
       "</div>"
      ],
      "text/plain": [
       "       danceability  energy  loudness  speechiness  acousticness  \\\n",
       "0             0.615  0.7790    -6.454       0.1350        0.0665   \n",
       "1             0.687  0.8450    -4.370       0.0576        0.1000   \n",
       "2             0.818  0.8030    -4.282       0.0797        0.0340   \n",
       "3             0.624  0.8760    -3.374       0.1000        0.0735   \n",
       "4             0.614  0.3790   -10.480       0.0476        0.6070   \n",
       "...             ...     ...       ...          ...           ...   \n",
       "34176         0.608  0.7450    -4.130       0.0277        0.0226   \n",
       "34177         0.467  0.8280    -2.220       0.0489        0.1810   \n",
       "34178         0.545  0.7790    -6.235       0.0751        0.2430   \n",
       "34179         0.539  0.5080    -6.050       0.0288        0.7270   \n",
       "34180         0.444  0.0911   -17.665       0.0307        0.9590   \n",
       "\n",
       "       instrumentalness  liveness  valence    tempo                      id  \\\n",
       "0              0.000000    0.1550    0.453  160.000  7zgqtptZvhf8GEmdsM2vp2   \n",
       "1              0.000000    0.0452    0.809   87.972  4Vxu50qVrQcycjRyJQaZLC   \n",
       "2              0.000000    0.1530    0.632  106.970  6b8Be6ljOzmkOmFslEb23P   \n",
       "3              0.000000    0.3270    0.781   99.943  0afhq8XCExXpqazXczTSve   \n",
       "4              0.000464    0.0986    0.201  107.989  1HNkqx9Ahdgi1Ixy2xkKkL   \n",
       "...                 ...       ...      ...      ...                     ...   \n",
       "34176          0.000006    0.0942    0.464  102.025  48UKTR66uUOT9LaUvooTNx   \n",
       "34177          0.000000    0.1020    0.334   79.978  3nhGk6VnrDHy67pXvMhdPa   \n",
       "34178          0.000002    0.1230    0.303  150.002  1DmW5Ep6ywYwxc2HMT5BG6   \n",
       "34179          0.000000    0.1740    0.227  101.358  0T5iIrXA4p5GsubkhuBIKV   \n",
       "34180          0.000001    0.0980    0.142   78.403  6wf7Yu7cxBSPrRlWeSeK0Q   \n",
       "\n",
       "       cluster  \n",
       "0            1  \n",
       "1            0  \n",
       "2            0  \n",
       "3            0  \n",
       "4            2  \n",
       "...        ...  \n",
       "34176        0  \n",
       "34177        1  \n",
       "34178        1  \n",
       "34179        2  \n",
       "34180        2  \n",
       "\n",
       "[34181 rows x 11 columns]"
      ]
     },
     "execution_count": 23,
     "metadata": {},
     "output_type": "execute_result"
    }
   ],
   "source": [
    "#X_df = pd.DataFrame(X)\n",
    "X[\"cluster\"] = clusters\n",
    "X"
   ]
  },
  {
   "cell_type": "code",
   "execution_count": 24,
   "metadata": {
    "colab": {
     "base_uri": "https://localhost:8080/",
     "height": 101
    },
    "executionInfo": {
     "elapsed": 206,
     "status": "ok",
     "timestamp": 1623848706129,
     "user": {
      "displayName": "Ignacio Soteras",
      "photoUrl": "",
      "userId": "02050793736257155229"
     },
     "user_tz": -120
    },
    "id": "cTlD0Mrl68mp",
    "outputId": "7fab6ffe-65d9-4304-ede3-6c0e034ddca5",
    "tags": []
   },
   "outputs": [
    {
     "data": {
      "text/html": [
       "<div>\n",
       "<style scoped>\n",
       "    .dataframe tbody tr th:only-of-type {\n",
       "        vertical-align: middle;\n",
       "    }\n",
       "\n",
       "    .dataframe tbody tr th {\n",
       "        vertical-align: top;\n",
       "    }\n",
       "\n",
       "    .dataframe thead th {\n",
       "        text-align: right;\n",
       "    }\n",
       "</style>\n",
       "<table border=\"1\" class=\"dataframe\">\n",
       "  <thead>\n",
       "    <tr style=\"text-align: right;\">\n",
       "      <th></th>\n",
       "      <th>danceability</th>\n",
       "      <th>energy</th>\n",
       "      <th>loudness</th>\n",
       "      <th>speechiness</th>\n",
       "      <th>acousticness</th>\n",
       "      <th>instrumentalness</th>\n",
       "      <th>liveness</th>\n",
       "      <th>valence</th>\n",
       "      <th>tempo</th>\n",
       "      <th>id</th>\n",
       "      <th>cluster</th>\n",
       "    </tr>\n",
       "  </thead>\n",
       "  <tbody>\n",
       "    <tr>\n",
       "      <th>28281</th>\n",
       "      <td>0.576</td>\n",
       "      <td>0.262</td>\n",
       "      <td>-12.592</td>\n",
       "      <td>0.0345</td>\n",
       "      <td>0.818</td>\n",
       "      <td>0.291</td>\n",
       "      <td>0.102</td>\n",
       "      <td>0.409</td>\n",
       "      <td>116.489</td>\n",
       "      <td>5PpBAGeNkIkfry2ZUq4DsD</td>\n",
       "      <td>2</td>\n",
       "    </tr>\n",
       "  </tbody>\n",
       "</table>\n",
       "</div>"
      ],
      "text/plain": [
       "       danceability  energy  loudness  speechiness  acousticness  \\\n",
       "28281         0.576   0.262   -12.592       0.0345         0.818   \n",
       "\n",
       "       instrumentalness  liveness  valence    tempo                      id  \\\n",
       "28281             0.291     0.102    0.409  116.489  5PpBAGeNkIkfry2ZUq4DsD   \n",
       "\n",
       "       cluster  \n",
       "28281        2  "
      ]
     },
     "execution_count": 24,
     "metadata": {},
     "output_type": "execute_result"
    }
   ],
   "source": [
    "X[X['cluster'] == 2].sample()"
   ]
  },
  {
   "cell_type": "markdown",
   "metadata": {
    "id": "3NkfqPiJjb76"
   },
   "source": [
    "## Playing with the parameters"
   ]
  },
  {
   "cell_type": "markdown",
   "metadata": {
    "id": "O2KwLLpijvAw"
   },
   "source": [
    "**init**: those are the different initialization strategies. By default, sklearn is already using a 'smart' method, not the totally random one we saw.\n",
    "\n",
    "**n_init**: By default, Scikit-Learn has tried 10 different random initializations and kept the best model.\n",
    "\n",
    "[Scikitlearn Documentation](https://scikit-learn.org/stable/modules/generated/sklearn.cluster.KMeans.html)\n",
    "\n",
    "How does Scikit-Learn know which model is the best? It uses a performance metric called **inertia**. **It is the mean squared distance between each instance and its closest centroid**. It's stored in the inertia_ attribute of the model."
   ]
  },
  {
   "cell_type": "code",
   "execution_count": 25,
   "metadata": {
    "colab": {
     "base_uri": "https://localhost:8080/"
    },
    "executionInfo": {
     "elapsed": 228,
     "status": "ok",
     "timestamp": 1623848859464,
     "user": {
      "displayName": "Ignacio Soteras",
      "photoUrl": "",
      "userId": "02050793736257155229"
     },
     "user_tz": -120
    },
    "id": "IfB_M6fgkYrO",
    "outputId": "f7437ec0-2b22-4f65-ee9d-6e1efec6eda0",
    "tags": []
   },
   "outputs": [
    {
     "data": {
      "text/plain": [
       "219569.83946157934"
      ]
     },
     "execution_count": 25,
     "metadata": {},
     "output_type": "execute_result"
    }
   ],
   "source": [
    "kmeans.inertia_"
   ]
  },
  {
   "cell_type": "markdown",
   "metadata": {
    "id": "FC1zC3e7kg-3"
   },
   "source": [
    "**max_iter**: It iterates up to 300 times by default (those are the re-computing centroids iterations we saw earlier)\n",
    "\n",
    "**tol**: This is a way to determine when to stop iterating (if the clusters have changed only veeeery slightly, we assume we have achieved 'convergence')\n",
    "\n",
    "**algorithm**: There are variations in the implementation of most algorithms and K-Means is no exception. By default, we're using a 'smart' implementation called elkan.\n",
    "\n",
    "For learning purposes, we will tweak the parameters to replicate the good ol' K-Means - a bit dumber than the Scikit-Learn, yes, but also the original."
   ]
  },
  {
   "cell_type": "code",
   "execution_count": 26,
   "metadata": {
    "colab": {
     "base_uri": "https://localhost:8080/"
    },
    "executionInfo": {
     "elapsed": 228,
     "status": "ok",
     "timestamp": 1623848956571,
     "user": {
      "displayName": "Ignacio Soteras",
      "photoUrl": "",
      "userId": "02050793736257155229"
     },
     "user_tz": -120
    },
    "id": "mTUnGONElwzm",
    "outputId": "e2be9ff2-7612-4b3e-d091-203cae32721c",
    "tags": []
   },
   "outputs": [
    {
     "name": "stdout",
     "output_type": "stream",
     "text": [
      "222985.65936139005\n"
     ]
    }
   ],
   "source": [
    "kmeans2 = KMeans(n_clusters=3,\n",
    "                init=\"k-means++\",\n",
    "                n_init=50,  # try with 1, 4, 8, 20, 30, 100...\n",
    "                max_iter=1,\n",
    "                tol=0,\n",
    "                algorithm=\"elkan\",\n",
    "                random_state=1234)\n",
    "kmeans2.fit(X_scaled_df)\n",
    "print(kmeans2.inertia_)"
   ]
  },
  {
   "cell_type": "markdown",
   "metadata": {
    "id": "77b-H29dnlLP"
   },
   "source": [
    "## Chosing K"
   ]
  },
  {
   "cell_type": "markdown",
   "metadata": {
    "id": "L8_TbXg4no6m"
   },
   "source": [
    "We have used K=8 by default for now - but we know that 8 might not be the optimal number of clusters for our dataset. Having a metric like inertia, we can compute it for several K values and then use the \"elbow method\" to choose the best K.\n",
    "\n",
    "We will now leave all other parameters with their default value, since it seems to work pretty well."
   ]
  },
  {
   "cell_type": "code",
   "execution_count": 27,
   "metadata": {
    "colab": {
     "base_uri": "https://localhost:8080/",
     "height": 1000
    },
    "executionInfo": {
     "elapsed": 2117,
     "status": "ok",
     "timestamp": 1623849240010,
     "user": {
      "displayName": "Ignacio Soteras",
      "photoUrl": "",
      "userId": "02050793736257155229"
     },
     "user_tz": -120
    },
    "id": "g69gpyLSnqVS",
    "outputId": "5eff7e09-1033-499e-ca86-a5b49f356400",
    "tags": []
   },
   "outputs": [
    {
     "name": "stdout",
     "output_type": "stream",
     "text": [
      "Training a K-Means model with 2 clusters! \n",
      "\n",
      "Training a K-Means model with 3 clusters! \n",
      "\n",
      "Training a K-Means model with 4 clusters! \n",
      "\n"
     ]
    },
    {
     "name": "stderr",
     "output_type": "stream",
     "text": [
      "/Users/philipplangfeldt/miniforge3/envs/iron_hack/lib/python3.9/site-packages/sklearn/cluster/_kmeans.py:870: FutureWarning: The default value of `n_init` will change from 10 to 'auto' in 1.4. Set the value of `n_init` explicitly to suppress the warning\n",
      "  warnings.warn(\n",
      "/Users/philipplangfeldt/miniforge3/envs/iron_hack/lib/python3.9/site-packages/sklearn/cluster/_kmeans.py:870: FutureWarning: The default value of `n_init` will change from 10 to 'auto' in 1.4. Set the value of `n_init` explicitly to suppress the warning\n",
      "  warnings.warn(\n",
      "/Users/philipplangfeldt/miniforge3/envs/iron_hack/lib/python3.9/site-packages/sklearn/cluster/_kmeans.py:870: FutureWarning: The default value of `n_init` will change from 10 to 'auto' in 1.4. Set the value of `n_init` explicitly to suppress the warning\n",
      "  warnings.warn(\n"
     ]
    },
    {
     "name": "stdout",
     "output_type": "stream",
     "text": [
      "Training a K-Means model with 5 clusters! \n",
      "\n"
     ]
    },
    {
     "name": "stderr",
     "output_type": "stream",
     "text": [
      "/Users/philipplangfeldt/miniforge3/envs/iron_hack/lib/python3.9/site-packages/sklearn/cluster/_kmeans.py:870: FutureWarning: The default value of `n_init` will change from 10 to 'auto' in 1.4. Set the value of `n_init` explicitly to suppress the warning\n",
      "  warnings.warn(\n"
     ]
    },
    {
     "name": "stdout",
     "output_type": "stream",
     "text": [
      "Training a K-Means model with 6 clusters! \n",
      "\n",
      "Training a K-Means model with 7 clusters! \n",
      "\n"
     ]
    },
    {
     "name": "stderr",
     "output_type": "stream",
     "text": [
      "/Users/philipplangfeldt/miniforge3/envs/iron_hack/lib/python3.9/site-packages/sklearn/cluster/_kmeans.py:870: FutureWarning: The default value of `n_init` will change from 10 to 'auto' in 1.4. Set the value of `n_init` explicitly to suppress the warning\n",
      "  warnings.warn(\n",
      "/Users/philipplangfeldt/miniforge3/envs/iron_hack/lib/python3.9/site-packages/sklearn/cluster/_kmeans.py:870: FutureWarning: The default value of `n_init` will change from 10 to 'auto' in 1.4. Set the value of `n_init` explicitly to suppress the warning\n",
      "  warnings.warn(\n"
     ]
    },
    {
     "name": "stdout",
     "output_type": "stream",
     "text": [
      "Training a K-Means model with 8 clusters! \n",
      "\n"
     ]
    },
    {
     "name": "stderr",
     "output_type": "stream",
     "text": [
      "/Users/philipplangfeldt/miniforge3/envs/iron_hack/lib/python3.9/site-packages/sklearn/cluster/_kmeans.py:870: FutureWarning: The default value of `n_init` will change from 10 to 'auto' in 1.4. Set the value of `n_init` explicitly to suppress the warning\n",
      "  warnings.warn(\n"
     ]
    },
    {
     "name": "stdout",
     "output_type": "stream",
     "text": [
      "Training a K-Means model with 9 clusters! \n",
      "\n"
     ]
    },
    {
     "name": "stderr",
     "output_type": "stream",
     "text": [
      "/Users/philipplangfeldt/miniforge3/envs/iron_hack/lib/python3.9/site-packages/sklearn/cluster/_kmeans.py:870: FutureWarning: The default value of `n_init` will change from 10 to 'auto' in 1.4. Set the value of `n_init` explicitly to suppress the warning\n",
      "  warnings.warn(\n"
     ]
    },
    {
     "name": "stdout",
     "output_type": "stream",
     "text": [
      "Training a K-Means model with 10 clusters! \n",
      "\n"
     ]
    },
    {
     "name": "stderr",
     "output_type": "stream",
     "text": [
      "/Users/philipplangfeldt/miniforge3/envs/iron_hack/lib/python3.9/site-packages/sklearn/cluster/_kmeans.py:870: FutureWarning: The default value of `n_init` will change from 10 to 'auto' in 1.4. Set the value of `n_init` explicitly to suppress the warning\n",
      "  warnings.warn(\n"
     ]
    },
    {
     "name": "stdout",
     "output_type": "stream",
     "text": [
      "Training a K-Means model with 11 clusters! \n",
      "\n"
     ]
    },
    {
     "name": "stderr",
     "output_type": "stream",
     "text": [
      "/Users/philipplangfeldt/miniforge3/envs/iron_hack/lib/python3.9/site-packages/sklearn/cluster/_kmeans.py:870: FutureWarning: The default value of `n_init` will change from 10 to 'auto' in 1.4. Set the value of `n_init` explicitly to suppress the warning\n",
      "  warnings.warn(\n"
     ]
    },
    {
     "name": "stdout",
     "output_type": "stream",
     "text": [
      "Training a K-Means model with 12 clusters! \n",
      "\n"
     ]
    },
    {
     "name": "stderr",
     "output_type": "stream",
     "text": [
      "/Users/philipplangfeldt/miniforge3/envs/iron_hack/lib/python3.9/site-packages/sklearn/cluster/_kmeans.py:870: FutureWarning: The default value of `n_init` will change from 10 to 'auto' in 1.4. Set the value of `n_init` explicitly to suppress the warning\n",
      "  warnings.warn(\n"
     ]
    },
    {
     "name": "stdout",
     "output_type": "stream",
     "text": [
      "Training a K-Means model with 13 clusters! \n",
      "\n"
     ]
    },
    {
     "name": "stderr",
     "output_type": "stream",
     "text": [
      "/Users/philipplangfeldt/miniforge3/envs/iron_hack/lib/python3.9/site-packages/sklearn/cluster/_kmeans.py:870: FutureWarning: The default value of `n_init` will change from 10 to 'auto' in 1.4. Set the value of `n_init` explicitly to suppress the warning\n",
      "  warnings.warn(\n"
     ]
    },
    {
     "name": "stdout",
     "output_type": "stream",
     "text": [
      "Training a K-Means model with 14 clusters! \n",
      "\n"
     ]
    },
    {
     "name": "stderr",
     "output_type": "stream",
     "text": [
      "/Users/philipplangfeldt/miniforge3/envs/iron_hack/lib/python3.9/site-packages/sklearn/cluster/_kmeans.py:870: FutureWarning: The default value of `n_init` will change from 10 to 'auto' in 1.4. Set the value of `n_init` explicitly to suppress the warning\n",
      "  warnings.warn(\n"
     ]
    },
    {
     "name": "stdout",
     "output_type": "stream",
     "text": [
      "Training a K-Means model with 15 clusters! \n",
      "\n"
     ]
    },
    {
     "name": "stderr",
     "output_type": "stream",
     "text": [
      "/Users/philipplangfeldt/miniforge3/envs/iron_hack/lib/python3.9/site-packages/sklearn/cluster/_kmeans.py:870: FutureWarning: The default value of `n_init` will change from 10 to 'auto' in 1.4. Set the value of `n_init` explicitly to suppress the warning\n",
      "  warnings.warn(\n"
     ]
    },
    {
     "name": "stdout",
     "output_type": "stream",
     "text": [
      "Training a K-Means model with 16 clusters! \n",
      "\n"
     ]
    },
    {
     "name": "stderr",
     "output_type": "stream",
     "text": [
      "/Users/philipplangfeldt/miniforge3/envs/iron_hack/lib/python3.9/site-packages/sklearn/cluster/_kmeans.py:870: FutureWarning: The default value of `n_init` will change from 10 to 'auto' in 1.4. Set the value of `n_init` explicitly to suppress the warning\n",
      "  warnings.warn(\n"
     ]
    },
    {
     "name": "stdout",
     "output_type": "stream",
     "text": [
      "Training a K-Means model with 17 clusters! \n",
      "\n"
     ]
    },
    {
     "name": "stderr",
     "output_type": "stream",
     "text": [
      "/Users/philipplangfeldt/miniforge3/envs/iron_hack/lib/python3.9/site-packages/sklearn/cluster/_kmeans.py:870: FutureWarning: The default value of `n_init` will change from 10 to 'auto' in 1.4. Set the value of `n_init` explicitly to suppress the warning\n",
      "  warnings.warn(\n"
     ]
    },
    {
     "name": "stdout",
     "output_type": "stream",
     "text": [
      "Training a K-Means model with 18 clusters! \n",
      "\n"
     ]
    },
    {
     "name": "stderr",
     "output_type": "stream",
     "text": [
      "/Users/philipplangfeldt/miniforge3/envs/iron_hack/lib/python3.9/site-packages/sklearn/cluster/_kmeans.py:870: FutureWarning: The default value of `n_init` will change from 10 to 'auto' in 1.4. Set the value of `n_init` explicitly to suppress the warning\n",
      "  warnings.warn(\n"
     ]
    },
    {
     "name": "stdout",
     "output_type": "stream",
     "text": [
      "Training a K-Means model with 19 clusters! \n",
      "\n"
     ]
    },
    {
     "name": "stderr",
     "output_type": "stream",
     "text": [
      "/Users/philipplangfeldt/miniforge3/envs/iron_hack/lib/python3.9/site-packages/sklearn/cluster/_kmeans.py:870: FutureWarning: The default value of `n_init` will change from 10 to 'auto' in 1.4. Set the value of `n_init` explicitly to suppress the warning\n",
      "  warnings.warn(\n"
     ]
    },
    {
     "name": "stdout",
     "output_type": "stream",
     "text": [
      "Training a K-Means model with 20 clusters! \n",
      "\n"
     ]
    },
    {
     "name": "stderr",
     "output_type": "stream",
     "text": [
      "/Users/philipplangfeldt/miniforge3/envs/iron_hack/lib/python3.9/site-packages/sklearn/cluster/_kmeans.py:870: FutureWarning: The default value of `n_init` will change from 10 to 'auto' in 1.4. Set the value of `n_init` explicitly to suppress the warning\n",
      "  warnings.warn(\n"
     ]
    },
    {
     "data": {
      "text/plain": [
       "Text(0.5, 1.0, 'Elbow Method showing the optimal k')"
      ]
     },
     "execution_count": 27,
     "metadata": {},
     "output_type": "execute_result"
    },
    {
     "data": {
      "image/png": "[encoded data removed]",
      "text/plain": [
       "<Figure size 1600x800 with 1 Axes>"
      ]
     },
     "metadata": {},
     "output_type": "display_data"
    }
   ],
   "source": [
    "K = range(2, 21)\n",
    "inertia = []\n",
    "\n",
    "for k in K:\n",
    "    print(\"Training a K-Means model with {} clusters! \".format(k))\n",
    "    print()\n",
    "    kmeans = KMeans(n_clusters=k,\n",
    "                    random_state=1234)\n",
    "    kmeans.fit(X_scaled_df)\n",
    "    inertia.append(kmeans.inertia_)\n",
    "\n",
    "import numpy as np\n",
    "import matplotlib.pyplot as plt\n",
    "%matplotlib inline\n",
    "\n",
    "plt.figure(figsize=(16,8))\n",
    "plt.plot(K, inertia, 'bx-')\n",
    "plt.xlabel('k')\n",
    "plt.ylabel('inertia')\n",
    "plt.xticks(np.arange(min(K), max(K)+1, 1.0))\n",
    "plt.title('Elbow Method showing the optimal k')"
   ]
  },
  {
   "cell_type": "markdown",
   "metadata": {
    "id": "nSnuBHPro2xZ"
   },
   "source": [
    "There seems to be an elbow at **k=3**, and then a very slight one at k=10, but other than that the plot is quite smooth. What if our business needs involve having a k between 5 and 8?\n",
    "\n",
    "There is another metric that will help us decide."
   ]
  },
  {
   "cell_type": "markdown",
   "metadata": {
    "id": "shXQmFxLpVU8"
   },
   "source": [
    "## Silouhette"
   ]
  },
  {
   "cell_type": "markdown",
   "metadata": {
    "id": "7t-Ydk-5pYbf"
   },
   "source": [
    "There's a metric called **Silhouette Score** that also measures how similar is an observation is to its own cluster compared to other clusters. For the ith observation, the **Silhouette Score** is:\n",
    "\n",
    "$$s_{K,L} = (b - a) / max(a,b) $$\n",
    "\n",
    "Where:\n",
    "\n",
    "a = mean intra-cluster distance (the average distance between i and every other observation in the cluster where i belongs)\n",
    "\n",
    "$$ a = \\frac{1}{n_{K}}\\sum_{i,j\\neq{i}}^{n_{K}}d(i,j)$$\n",
    "\n",
    "b = mean **nearest-cluster** distance (the average distance between i and the observations of the nearest cluster that i is not part of it)\n",
    "\n",
    "$$ b = \\frac{1}{(n_{K}*n_{L})}\\sum_{i}^{n_{K}}\\sum_{j}^{n_{L}}d(i,j)$$\n",
    "\n",
    "The silhouette score for the whole model is the **average of all the silhouette scores** of each instance.\n",
    "\n",
    "$$ S = \\frac{2}{N(N-1)}\\sum_{c}s_{K,L}$$\n",
    "\n",
    "Because we divide the substraction of (b-a) by the max of the two distances (which will always be b unless the observation has been wrongly assigned to a cluster it should not belong), we obtain a \"normalized score\", that ranges from -1 to 1, and that makes it easier to interpret."
   ]
  },
  {
   "cell_type": "code",
   "execution_count": 28,
   "metadata": {
    "colab": {
     "base_uri": "https://localhost:8080/",
     "height": 530
    },
    "executionInfo": {
     "elapsed": 2352,
     "status": "ok",
     "timestamp": 1623849582213,
     "user": {
      "displayName": "Ignacio Soteras",
      "photoUrl": "",
      "userId": "02050793736257155229"
     },
     "user_tz": -120
    },
    "id": "c4qvvkaOvqjr",
    "outputId": "96b4dea1-2977-4916-c92c-d9090a6886aa",
    "tags": []
   },
   "outputs": [
    {
     "name": "stderr",
     "output_type": "stream",
     "text": [
      "/Users/philipplangfeldt/miniforge3/envs/iron_hack/lib/python3.9/site-packages/sklearn/cluster/_kmeans.py:870: FutureWarning: The default value of `n_init` will change from 10 to 'auto' in 1.4. Set the value of `n_init` explicitly to suppress the warning\n",
      "  warnings.warn(\n",
      "/Users/philipplangfeldt/miniforge3/envs/iron_hack/lib/python3.9/site-packages/sklearn/cluster/_kmeans.py:870: FutureWarning: The default value of `n_init` will change from 10 to 'auto' in 1.4. Set the value of `n_init` explicitly to suppress the warning\n",
      "  warnings.warn(\n",
      "/Users/philipplangfeldt/miniforge3/envs/iron_hack/lib/python3.9/site-packages/sklearn/cluster/_kmeans.py:870: FutureWarning: The default value of `n_init` will change from 10 to 'auto' in 1.4. Set the value of `n_init` explicitly to suppress the warning\n",
      "  warnings.warn(\n",
      "/Users/philipplangfeldt/miniforge3/envs/iron_hack/lib/python3.9/site-packages/sklearn/cluster/_kmeans.py:870: FutureWarning: The default value of `n_init` will change from 10 to 'auto' in 1.4. Set the value of `n_init` explicitly to suppress the warning\n",
      "  warnings.warn(\n",
      "/Users/philipplangfeldt/miniforge3/envs/iron_hack/lib/python3.9/site-packages/sklearn/cluster/_kmeans.py:870: FutureWarning: The default value of `n_init` will change from 10 to 'auto' in 1.4. Set the value of `n_init` explicitly to suppress the warning\n",
      "  warnings.warn(\n",
      "/Users/philipplangfeldt/miniforge3/envs/iron_hack/lib/python3.9/site-packages/sklearn/cluster/_kmeans.py:870: FutureWarning: The default value of `n_init` will change from 10 to 'auto' in 1.4. Set the value of `n_init` explicitly to suppress the warning\n",
      "  warnings.warn(\n",
      "/Users/philipplangfeldt/miniforge3/envs/iron_hack/lib/python3.9/site-packages/sklearn/cluster/_kmeans.py:870: FutureWarning: The default value of `n_init` will change from 10 to 'auto' in 1.4. Set the value of `n_init` explicitly to suppress the warning\n",
      "  warnings.warn(\n",
      "/Users/philipplangfeldt/miniforge3/envs/iron_hack/lib/python3.9/site-packages/sklearn/cluster/_kmeans.py:870: FutureWarning: The default value of `n_init` will change from 10 to 'auto' in 1.4. Set the value of `n_init` explicitly to suppress the warning\n",
      "  warnings.warn(\n",
      "/Users/philipplangfeldt/miniforge3/envs/iron_hack/lib/python3.9/site-packages/sklearn/cluster/_kmeans.py:870: FutureWarning: The default value of `n_init` will change from 10 to 'auto' in 1.4. Set the value of `n_init` explicitly to suppress the warning\n",
      "  warnings.warn(\n",
      "/Users/philipplangfeldt/miniforge3/envs/iron_hack/lib/python3.9/site-packages/sklearn/cluster/_kmeans.py:870: FutureWarning: The default value of `n_init` will change from 10 to 'auto' in 1.4. Set the value of `n_init` explicitly to suppress the warning\n",
      "  warnings.warn(\n",
      "/Users/philipplangfeldt/miniforge3/envs/iron_hack/lib/python3.9/site-packages/sklearn/cluster/_kmeans.py:870: FutureWarning: The default value of `n_init` will change from 10 to 'auto' in 1.4. Set the value of `n_init` explicitly to suppress the warning\n",
      "  warnings.warn(\n",
      "/Users/philipplangfeldt/miniforge3/envs/iron_hack/lib/python3.9/site-packages/sklearn/cluster/_kmeans.py:870: FutureWarning: The default value of `n_init` will change from 10 to 'auto' in 1.4. Set the value of `n_init` explicitly to suppress the warning\n",
      "  warnings.warn(\n",
      "/Users/philipplangfeldt/miniforge3/envs/iron_hack/lib/python3.9/site-packages/sklearn/cluster/_kmeans.py:870: FutureWarning: The default value of `n_init` will change from 10 to 'auto' in 1.4. Set the value of `n_init` explicitly to suppress the warning\n",
      "  warnings.warn(\n",
      "/Users/philipplangfeldt/miniforge3/envs/iron_hack/lib/python3.9/site-packages/sklearn/cluster/_kmeans.py:870: FutureWarning: The default value of `n_init` will change from 10 to 'auto' in 1.4. Set the value of `n_init` explicitly to suppress the warning\n",
      "  warnings.warn(\n",
      "/Users/philipplangfeldt/miniforge3/envs/iron_hack/lib/python3.9/site-packages/sklearn/cluster/_kmeans.py:870: FutureWarning: The default value of `n_init` will change from 10 to 'auto' in 1.4. Set the value of `n_init` explicitly to suppress the warning\n",
      "  warnings.warn(\n",
      "/Users/philipplangfeldt/miniforge3/envs/iron_hack/lib/python3.9/site-packages/sklearn/cluster/_kmeans.py:870: FutureWarning: The default value of `n_init` will change from 10 to 'auto' in 1.4. Set the value of `n_init` explicitly to suppress the warning\n",
      "  warnings.warn(\n",
      "/Users/philipplangfeldt/miniforge3/envs/iron_hack/lib/python3.9/site-packages/sklearn/cluster/_kmeans.py:870: FutureWarning: The default value of `n_init` will change from 10 to 'auto' in 1.4. Set the value of `n_init` explicitly to suppress the warning\n",
      "  warnings.warn(\n",
      "/Users/philipplangfeldt/miniforge3/envs/iron_hack/lib/python3.9/site-packages/sklearn/cluster/_kmeans.py:870: FutureWarning: The default value of `n_init` will change from 10 to 'auto' in 1.4. Set the value of `n_init` explicitly to suppress the warning\n",
      "  warnings.warn(\n"
     ]
    },
    {
     "data": {
      "text/plain": [
       "Text(0.5, 1.0, 'Silhouette Method showing the optimal k')"
      ]
     },
     "execution_count": 28,
     "metadata": {},
     "output_type": "execute_result"
    },
    {
     "data": {
      "image/png": "[encoded data removed]",
      "text/plain": [
       "<Figure size 1600x800 with 1 Axes>"
      ]
     },
     "metadata": {},
     "output_type": "display_data"
    }
   ],
   "source": [
    "K = range(2, 20)\n",
    "silhouette = []\n",
    "\n",
    "for k in K:\n",
    "    kmeans = KMeans(n_clusters=k,\n",
    "                    random_state=1234)\n",
    "    kmeans.fit(X_scaled_df)\n",
    "    \n",
    "    filename = \"model/kmeans_\" + str(k) + \".pickle\"\n",
    "    with open(filename, \"wb\") as f:\n",
    "        pickle.dump(kmeans,f)\n",
    "    \n",
    "    silhouette.append(silhouette_score(X_scaled_df, kmeans.predict(X_scaled_df)))\n",
    "\n",
    "\n",
    "plt.figure(figsize=(16,8))\n",
    "plt.plot(K, silhouette, 'bx-')\n",
    "plt.xlabel('k')\n",
    "plt.ylabel('silhouette score')\n",
    "plt.xticks(np.arange(min(K), max(K)+1, 1.0))\n",
    "plt.title('Silhouette Method showing the optimal k')"
   ]
  },
  {
   "cell_type": "markdown",
   "metadata": {
    "id": "TmE9ES1EwPhL"
   },
   "source": [
    "The greater the Silouhette, the greater the separation between the clusters, In other words, the clusters will be more defined."
   ]
  },
  {
   "cell_type": "markdown",
   "metadata": {},
   "source": [
    "<b> advanced (optional)"
   ]
  },
  {
   "cell_type": "code",
   "execution_count": null,
   "metadata": {},
   "outputs": [],
   "source": [
    "conda install -c districtdatalabs yellowbrick"
   ]
  },
  {
   "cell_type": "code",
   "execution_count": 29,
   "metadata": {
    "tags": []
   },
   "outputs": [
    {
     "name": "stderr",
     "output_type": "stream",
     "text": [
      "/Users/philipplangfeldt/miniforge3/envs/iron_hack/lib/python3.9/site-packages/sklearn/cluster/_kmeans.py:870: FutureWarning: The default value of `n_init` will change from 10 to 'auto' in 1.4. Set the value of `n_init` explicitly to suppress the warning\n",
      "  warnings.warn(\n"
     ]
    },
    {
     "data": {
      "image/png": "[encoded data removed]",
      "text/plain": [
       "<Figure size 800x550 with 1 Axes>"
      ]
     },
     "metadata": {},
     "output_type": "display_data"
    },
    {
     "data": {
      "text/plain": [
       "<Axes: title={'center': 'Silhouette Plot of KMeans Clustering for 34181 Samples in 10 Centers'}, xlabel='silhouette coefficient values', ylabel='cluster label'>"
      ]
     },
     "execution_count": 29,
     "metadata": {},
     "output_type": "execute_result"
    }
   ],
   "source": [
    "from yellowbrick.cluster import SilhouetteVisualizer\n",
    "model = KMeans(10, random_state=42)\n",
    "visualizer = SilhouetteVisualizer(model, colors='yellowbrick')\n",
    "visualizer.fit(X_scaled_df)        # Fit the data to the visualizer\n",
    "visualizer.show()        # Finalize and render the figure"
   ]
  },
  {
   "cell_type": "markdown",
   "metadata": {
    "id": "mvjmm52iw2xU"
   },
   "source": [
    "Here, we confirm that 3 is the best option, but we also notice that 5 a quite good - it meets the 'technical criteria' of having a better score than its predecessor (4), so if it falls within the range of our business demands - it looks like the best candidate."
   ]
  },
  {
   "cell_type": "markdown",
   "metadata": {
    "id": "rQ7S4T2TtKz1"
   },
   "source": [
    "# Saving with pickle"
   ]
  },
  {
   "cell_type": "code",
   "execution_count": 30,
   "metadata": {
    "executionInfo": {
     "elapsed": 432,
     "status": "ok",
     "timestamp": 1623850976766,
     "user": {
      "displayName": "Ignacio Soteras",
      "photoUrl": "",
      "userId": "02050793736257155229"
     },
     "user_tz": -120
    },
    "id": "w0DBvROTtNRZ",
    "tags": []
   },
   "outputs": [],
   "source": [
    "import pickle\n",
    "\n",
    "#scaler = StandardScaler()\n",
    "#model = KMeans()\n",
    "\n",
    "with open(\"model/scaler.pickle\", \"wb\") as f:\n",
    "    pickle.dump(scaler,f)\n",
    "\n",
    "#with open(\"model/kmeans_4.pickle\", \"wb\") as f:\n",
    " #   pickle.dump(kmeans,f)"
   ]
  },
  {
   "cell_type": "code",
   "execution_count": 32,
   "metadata": {
    "executionInfo": {
     "elapsed": 202,
     "status": "ok",
     "timestamp": 1623850160602,
     "user": {
      "displayName": "Ignacio Soteras",
      "photoUrl": "",
      "userId": "02050793736257155229"
     },
     "user_tz": -120
    },
    "id": "PLfjcUzbu1FF",
    "tags": []
   },
   "outputs": [],
   "source": [
    "def load(filename = \"filename.pickle\"): \n",
    "    try: \n",
    "        with open(filename, \"rb\") as f: \n",
    "            return pickle.load(f) \n",
    "        \n",
    "    except FileNotFoundError: \n",
    "        print(\"File not found!\") \n"
   ]
  },
  {
   "cell_type": "code",
   "execution_count": 57,
   "metadata": {
    "tags": []
   },
   "outputs": [],
   "source": [
    "def load(filename = \"filename.pickle\"): \n",
    "    try: \n",
    "        with open(filename, \"rb\") as f: \n",
    "            return pickle.load(f) \n",
    "        \n",
    "    except FileNotFoundError: \n",
    "        print(\"File not found!\")"
   ]
  },
  {
   "cell_type": "code",
   "execution_count": 58,
   "metadata": {
    "tags": []
   },
   "outputs": [],
   "source": [
    "scaler= load(filename=\"Model/scaler.pickle\")"
   ]
  },
  {
   "cell_type": "code",
   "execution_count": 33,
   "metadata": {
    "tags": []
   },
   "outputs": [],
   "source": [
    "kmeans_model = load(filename=\"Model/kmeans_7.pickle\")"
   ]
  },
  {
   "cell_type": "code",
   "execution_count": 60,
   "metadata": {
    "tags": []
   },
   "outputs": [
    {
     "data": {
      "text/html": [
       "<style>#sk-container-id-2 {color: black;background-color: white;}#sk-container-id-2 pre{padding: 0;}#sk-container-id-2 div.sk-toggleable {background-color: white;}#sk-container-id-2 label.sk-toggleable__label {cursor: pointer;display: block;width: 100%;margin-bottom: 0;padding: 0.3em;box-sizing: border-box;text-align: center;}#sk-container-id-2 label.sk-toggleable__label-arrow:before {content: \"▸\";float: left;margin-right: 0.25em;color: #696969;}#sk-container-id-2 label.sk-toggleable__label-arrow:hover:before {color: black;}#sk-container-id-2 div.sk-estimator:hover label.sk-toggleable__label-arrow:before {color: black;}#sk-container-id-2 div.sk-toggleable__content {max-height: 0;max-width: 0;overflow: hidden;text-align: left;background-color: #f0f8ff;}#sk-container-id-2 div.sk-toggleable__content pre {margin: 0.2em;color: black;border-radius: 0.25em;background-color: #f0f8ff;}#sk-container-id-2 input.sk-toggleable__control:checked~div.sk-toggleable__content {max-height: 200px;max-width: 100%;overflow: auto;}#sk-container-id-2 input.sk-toggleable__control:checked~label.sk-toggleable__label-arrow:before {content: \"▾\";}#sk-container-id-2 div.sk-estimator input.sk-toggleable__control:checked~label.sk-toggleable__label {background-color: #d4ebff;}#sk-container-id-2 div.sk-label input.sk-toggleable__control:checked~label.sk-toggleable__label {background-color: #d4ebff;}#sk-container-id-2 input.sk-hidden--visually {border: 0;clip: rect(1px 1px 1px 1px);clip: rect(1px, 1px, 1px, 1px);height: 1px;margin: -1px;overflow: hidden;padding: 0;position: absolute;width: 1px;}#sk-container-id-2 div.sk-estimator {font-family: monospace;background-color: #f0f8ff;border: 1px dotted black;border-radius: 0.25em;box-sizing: border-box;margin-bottom: 0.5em;}#sk-container-id-2 div.sk-estimator:hover {background-color: #d4ebff;}#sk-container-id-2 div.sk-parallel-item::after {content: \"\";width: 100%;border-bottom: 1px solid gray;flex-grow: 1;}#sk-container-id-2 div.sk-label:hover label.sk-toggleable__label {background-color: #d4ebff;}#sk-container-id-2 div.sk-serial::before {content: \"\";position: absolute;border-left: 1px solid gray;box-sizing: border-box;top: 0;bottom: 0;left: 50%;z-index: 0;}#sk-container-id-2 div.sk-serial {display: flex;flex-direction: column;align-items: center;background-color: white;padding-right: 0.2em;padding-left: 0.2em;position: relative;}#sk-container-id-2 div.sk-item {position: relative;z-index: 1;}#sk-container-id-2 div.sk-parallel {display: flex;align-items: stretch;justify-content: center;background-color: white;position: relative;}#sk-container-id-2 div.sk-item::before, #sk-container-id-2 div.sk-parallel-item::before {content: \"\";position: absolute;border-left: 1px solid gray;box-sizing: border-box;top: 0;bottom: 0;left: 50%;z-index: -1;}#sk-container-id-2 div.sk-parallel-item {display: flex;flex-direction: column;z-index: 1;position: relative;background-color: white;}#sk-container-id-2 div.sk-parallel-item:first-child::after {align-self: flex-end;width: 50%;}#sk-container-id-2 div.sk-parallel-item:last-child::after {align-self: flex-start;width: 50%;}#sk-container-id-2 div.sk-parallel-item:only-child::after {width: 0;}#sk-container-id-2 div.sk-dashed-wrapped {border: 1px dashed gray;margin: 0 0.4em 0.5em 0.4em;box-sizing: border-box;padding-bottom: 0.4em;background-color: white;}#sk-container-id-2 div.sk-label label {font-family: monospace;font-weight: bold;display: inline-block;line-height: 1.2em;}#sk-container-id-2 div.sk-label-container {text-align: center;}#sk-container-id-2 div.sk-container {/* jupyter's `normalize.less` sets `[hidden] { display: none; }` but bootstrap.min.css set `[hidden] { display: none !important; }` so we also need the `!important` here to be able to override the default hidden behavior on the sphinx rendered scikit-learn.org. See: https://github.com/scikit-learn/scikit-learn/issues/21755 */display: inline-block !important;position: relative;}#sk-container-id-2 div.sk-text-repr-fallback {display: none;}</style><div id=\"sk-container-id-2\" class=\"sk-top-container\"><div class=\"sk-text-repr-fallback\"><pre>KMeans(random_state=1234)</pre><b>In a Jupyter environment, please rerun this cell to show the HTML representation or trust the notebook. <br />On GitHub, the HTML representation is unable to render, please try loading this page with nbviewer.org.</b></div><div class=\"sk-container\" hidden><div class=\"sk-item\"><div class=\"sk-estimator sk-toggleable\"><input class=\"sk-toggleable__control sk-hidden--visually\" id=\"sk-estimator-id-2\" type=\"checkbox\" checked><label for=\"sk-estimator-id-2\" class=\"sk-toggleable__label sk-toggleable__label-arrow\">KMeans</label><div class=\"sk-toggleable__content\"><pre>KMeans(random_state=1234)</pre></div></div></div></div></div>"
      ],
      "text/plain": [
       "KMeans(random_state=1234)"
      ]
     },
     "execution_count": 60,
     "metadata": {},
     "output_type": "execute_result"
    }
   ],
   "source": [
    "kmeans_model"
   ]
  },
  {
   "cell_type": "code",
   "execution_count": 61,
   "metadata": {
    "colab": {
     "base_uri": "https://localhost:8080/"
    },
    "executionInfo": {
     "elapsed": 200,
     "status": "ok",
     "timestamp": 1623850190360,
     "user": {
      "displayName": "Ignacio Soteras",
      "photoUrl": "",
      "userId": "02050793736257155229"
     },
     "user_tz": -120
    },
    "id": "VqDGBIPVvBXG",
    "outputId": "cc0b5b59-d4f9-40ee-8c0b-d733de6570f0",
    "tags": []
   },
   "outputs": [],
   "source": [
    "scaler2 = load(\"Model/scaler.pickle\")"
   ]
  },
  {
   "cell_type": "code",
   "execution_count": null,
   "metadata": {},
   "outputs": [],
   "source": [
    "# user input a song\n",
    "## get the audio features for the song from spotify \n",
    "## scale the audio features with scaler that you build the Kmean on \n",
    "## predict for the user song(audio features) in which cluster belong to (e.g belongs to 7 )\n",
    "## got the 100,000000 database and recommed a song that belong to the same cluster of the user input song "
   ]
  },
  {
   "cell_type": "markdown",
   "metadata": {
    "id": "O1PJsX3yxY6r"
   },
   "source": [
    "# Time to work!"
   ]
  },
  {
   "cell_type": "markdown",
   "metadata": {
    "id": "ieomYz1Bxa0n"
   },
   "source": [
    "Time to clusterize the songs in your database and see how they look like. "
   ]
  },
  {
   "cell_type": "code",
   "execution_count": 34,
   "metadata": {},
   "outputs": [],
   "source": [
    "X_num2 = df[[\"danceability\",\"energy\",\"loudness\",\"speechiness\",\"acousticness\",\n",
    "        \"instrumentalness\",\"liveness\",\"valence\",\"tempo\"]]"
   ]
  },
  {
   "cell_type": "code",
   "execution_count": 35,
   "metadata": {
    "tags": []
   },
   "outputs": [],
   "source": [
    "scaler.fit(X_num2)\n",
    "X_scaled2 = scaler.transform(X_num2)\n",
    "X_scaled_df2 = pd.DataFrame(X_scaled2, columns = X_num2.columns)"
   ]
  },
  {
   "cell_type": "code",
   "execution_count": 36,
   "metadata": {
    "tags": []
   },
   "outputs": [],
   "source": [
    "clusters = kmeans_model.predict(X_scaled_df2)\n"
   ]
  },
  {
   "cell_type": "code",
   "execution_count": 46,
   "metadata": {
    "tags": []
   },
   "outputs": [],
   "source": [
    "df['cluster'] = clusters"
   ]
  },
  {
   "cell_type": "code",
   "execution_count": 51,
   "metadata": {
    "tags": []
   },
   "outputs": [],
   "source": [
    "df.to_csv('data/spotify_data_with_clusters.csv', index=False)"
   ]
  },
  {
   "cell_type": "code",
   "execution_count": null,
   "metadata": {},
   "outputs": [],
   "source": []
  }
 ],
 "metadata": {
  "colab": {
   "name": "code_along_KMeans_structure.ipynb",
   "provenance": []
  },
  "kernelspec": {
   "display_name": "Python 3 (ipykernel)",
   "language": "python",
   "name": "python3"
  },
  "language_info": {
   "codemirror_mode": {
    "name": "ipython",
    "version": 3
   },
   "file_extension": ".py",
   "mimetype": "text/x-python",
   "name": "python",
   "nbconvert_exporter": "python",
   "pygments_lexer": "ipython3",
   "version": "3.9.18"
  },
  "toc": {
   "base_numbering": 1,
   "nav_menu": {},
   "number_sections": true,
   "sideBar": true,
   "skip_h1_title": false,
   "title_cell": "Table of Contents",
   "title_sidebar": "Contents",
   "toc_cell": false,
   "toc_position": {},
   "toc_section_display": true,
   "toc_window_display": false
  }
 },
 "nbformat": 4,
 "nbformat_minor": 4
}

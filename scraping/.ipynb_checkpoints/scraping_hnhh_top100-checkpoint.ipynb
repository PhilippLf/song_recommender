{
 "cells": [
  {
   "cell_type": "code",
   "execution_count": 1,
   "id": "21b45515-8737-4c89-b941-d63f46022620",
   "metadata": {},
   "outputs": [],
   "source": [
    "import pandas as pd\n",
    "from bs4 import BeautifulSoup\n",
    "import requests"
   ]
  },
  {
   "cell_type": "code",
   "execution_count": 2,
   "id": "82351712-b994-4a15-84d1-20177c08d9ab",
   "metadata": {
    "tags": []
   },
   "outputs": [],
   "source": [
    "url = \"https://www.hotnewhiphop.com/top100\""
   ]
  },
  {
   "cell_type": "code",
   "execution_count": 3,
   "id": "33878f45-f384-41c0-9755-99a4dd93d2b4",
   "metadata": {
    "tags": []
   },
   "outputs": [],
   "source": [
    "response = requests.get(url)"
   ]
  },
  {
   "cell_type": "code",
   "execution_count": 4,
   "id": "36d78b53-7aaf-4041-996e-224e95a02782",
   "metadata": {
    "tags": []
   },
   "outputs": [
    {
     "data": {
      "text/plain": [
       "200"
      ]
     },
     "execution_count": 4,
     "metadata": {},
     "output_type": "execute_result"
    }
   ],
   "source": [
    "response.status_code # 200 status code means OK!"
   ]
  },
  {
   "cell_type": "code",
   "execution_count": 5,
   "id": "cfc7d0af-a556-4833-8f35-a706d4b8e3fe",
   "metadata": {
    "tags": []
   },
   "outputs": [],
   "source": [
    "soup = BeautifulSoup(response.content, \"html.parser\")"
   ]
  },
  {
   "cell_type": "markdown",
   "id": "04dddda2-1609-4fbd-85e8-79f459c7c7a3",
   "metadata": {},
   "source": [
    "### Scraping artits names"
   ]
  },
  {
   "cell_type": "code",
   "execution_count": 19,
   "id": "6305abfc-86a8-46d5-a7e5-ecff0fff78d9",
   "metadata": {
    "tags": []
   },
   "outputs": [],
   "source": [
    "span_artists = soup.select('p.artist-name')"
   ]
  },
  {
   "cell_type": "code",
   "execution_count": 20,
   "id": "57447bb9-9613-4cd8-bba3-e686855c371b",
   "metadata": {
    "tags": []
   },
   "outputs": [],
   "source": [
    "artists = []"
   ]
  },
  {
   "cell_type": "code",
   "execution_count": 21,
   "id": "cf8a732d-270a-47c1-9eb2-e860a6431805",
   "metadata": {
    "tags": []
   },
   "outputs": [],
   "source": [
    "for span in span_artists:\n",
    "    artists.append(span.get_text(strip=True).title())"
   ]
  },
  {
   "cell_type": "code",
   "execution_count": 22,
   "id": "0aea2c91-b2be-4776-8f93-9a8b3d5e1166",
   "metadata": {
    "tags": []
   },
   "outputs": [
    {
     "data": {
      "text/plain": [
       "['Blueface,Jaidyn Alexis',\n",
       " 'Cam’Ron',\n",
       " 'Busta Rhymes',\n",
       " 'Dababy',\n",
       " 'Young Nudy',\n",
       " 'Dababy',\n",
       " 'Joyner Lucas',\n",
       " 'Bryson Tiller',\n",
       " 'Kid Cudi',\n",
       " 'Cardi B',\n",
       " 'Glorilla',\n",
       " 'Killer Mike',\n",
       " 'Icewear Vezzo',\n",
       " 'Ransom',\n",
       " 'Sampha',\n",
       " 'Tee Grizzley',\n",
       " 'A.R. The Mermaid',\n",
       " 'Lil Wayne',\n",
       " 'Nle Choppa',\n",
       " 'Flyana Boss']"
      ]
     },
     "execution_count": 22,
     "metadata": {},
     "output_type": "execute_result"
    }
   ],
   "source": [
    "artists"
   ]
  },
  {
   "cell_type": "markdown",
   "id": "1ce56a59-13d8-481f-b5f3-0acda7adaaaf",
   "metadata": {},
   "source": [
    "### Scraping song names"
   ]
  },
  {
   "cell_type": "code",
   "execution_count": 25,
   "id": "ba9380da-0a51-41f9-8629-b76b7af39784",
   "metadata": {
    "tags": []
   },
   "outputs": [],
   "source": [
    "h2_songs = soup.select('h2.song-name')"
   ]
  },
  {
   "cell_type": "code",
   "execution_count": 26,
   "id": "ed06e69a-b0f2-4582-8ce1-561c4fe1c207",
   "metadata": {
    "tags": []
   },
   "outputs": [],
   "source": [
    "songs = []"
   ]
  },
  {
   "cell_type": "code",
   "execution_count": 27,
   "id": "2a7fc26f-2baa-4f46-8221-482e5800fc41",
   "metadata": {
    "tags": []
   },
   "outputs": [],
   "source": [
    "for h2 in h2_songs:\n",
    "    songs.append(h2.get_text(strip=True).title())"
   ]
  },
  {
   "cell_type": "code",
   "execution_count": 28,
   "id": "aaa7affd-b874-4727-864c-fc9fec4fe35c",
   "metadata": {
    "tags": []
   },
   "outputs": [
    {
     "data": {
      "text/plain": [
       "['Post Opp',\n",
       " 'Go & Get It',\n",
       " 'Luxury Life',\n",
       " 'Peaches & Eggplants (Freestyle)',\n",
       " 'Peaches & Eggplants [Remix]',\n",
       " 'Deli Freestyle',\n",
       " 'Seventeen',\n",
       " 'Down Like That',\n",
       " \"Ill What I Bleed/Most Ain'T Dennis\",\n",
       " 'Bongos',\n",
       " 'Wrong One',\n",
       " 'Maynard Vignette',\n",
       " 'Perfect',\n",
       " 'Scape Goats',\n",
       " 'Only',\n",
       " 'Idgaf',\n",
       " 'Watt We Doingg',\n",
       " 'Kat Food',\n",
       " 'College Girls',\n",
       " 'You Wish (With Missy Elliott & Kaliii) - Remix']"
      ]
     },
     "execution_count": 28,
     "metadata": {},
     "output_type": "execute_result"
    }
   ],
   "source": [
    "songs"
   ]
  },
  {
   "cell_type": "markdown",
   "id": "ce29c44f-3914-49e4-97be-9da8e7a17678",
   "metadata": {},
   "source": [
    "### Creating DataFrame and csv"
   ]
  },
  {
   "cell_type": "code",
   "execution_count": 29,
   "id": "ebaf8f67-b827-477f-b99c-990c55f12a95",
   "metadata": {
    "tags": []
   },
   "outputs": [],
   "source": [
    "hnhh_20 = pd.DataFrame({'artist':artists,'song_title':songs})"
   ]
  },
  {
   "cell_type": "code",
   "execution_count": 30,
   "id": "ee4f9bba-5eee-4d64-b751-2741a2f40831",
   "metadata": {
    "tags": []
   },
   "outputs": [],
   "source": [
    "hnhh_20.to_csv('../data/hnhh_20.csv', index= False)"
   ]
  },
  {
   "cell_type": "code",
   "execution_count": null,
   "id": "bb178bca-6330-4d8c-863c-a5b7e8d61615",
   "metadata": {},
   "outputs": [],
   "source": []
  }
 ],
 "metadata": {
  "kernelspec": {
   "display_name": "Python 3 (ipykernel)",
   "language": "python",
   "name": "python3"
  },
  "language_info": {
   "codemirror_mode": {
    "name": "ipython",
    "version": 3
   },
   "file_extension": ".py",
   "mimetype": "text/x-python",
   "name": "python",
   "nbconvert_exporter": "python",
   "pygments_lexer": "ipython3",
   "version": "3.9.18"
  }
 },
 "nbformat": 4,
 "nbformat_minor": 5
}

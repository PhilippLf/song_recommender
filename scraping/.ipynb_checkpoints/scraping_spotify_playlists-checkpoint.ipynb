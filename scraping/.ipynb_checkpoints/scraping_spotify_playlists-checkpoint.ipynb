{
 "cells": [
  {
   "cell_type": "code",
   "execution_count": 14,
   "id": "ca5c36fe-e3b9-4000-98ca-70621f4cfe62",
   "metadata": {
    "tags": []
   },
   "outputs": [],
   "source": [
    "import config"
   ]
  },
  {
   "cell_type": "code",
   "execution_count": 15,
   "id": "98c5a84d-fa44-401c-8367-3b396d46f311",
   "metadata": {
    "tags": []
   },
   "outputs": [],
   "source": [
    "import spotipy\n",
    "import json\n",
    "from spotipy.oauth2 import SpotifyClientCredentials\n",
    "\n",
    "\n",
    "#Initialize SpotiPy with user credentials\n",
    "sp = spotipy.Spotify(auth_manager=SpotifyClientCredentials(client_id= config.client_id,\n",
    "                                                           client_secret= config.client_secret))\n",
    "\n",
    "# The \"sp\" variable has two useful funtions:\n",
    "# The first usefull function is:\n",
    "# .search(q='',limit=n)\n",
    "# .search(q=\"track:\"+song_name+\" artist:\"+artist_name,limit=5) to restrict to a song name and artist.\n",
    "# Where the \"q\" keyword is the query you want to perform on spotify: song_name, artist,...\n",
    "# while The \"limit\" keyword will limit the number of returned results.\n",
    "#\n",
    "# The second usefull function is:\n",
    "# .audio_features([URL|URI|ID])\n",
    "# which returns some 'features of the song', that after cleanup, we can use in order to characterize a song.\n"
   ]
  },
  {
   "cell_type": "code",
   "execution_count": 3,
   "id": "15b3bdd5-1596-4c1f-97bf-456eac6c2702",
   "metadata": {
    "tags": []
   },
   "outputs": [],
   "source": [
    "import pprint\n",
    "import pandas as pd\n",
    "import time"
   ]
  },
  {
   "cell_type": "markdown",
   "id": "ec028db5-65b9-4027-921f-c1508c40d2aa",
   "metadata": {},
   "source": [
    "### Getting all the playlist id's from the user 'Spotify'"
   ]
  },
  {
   "cell_type": "code",
   "execution_count": 4,
   "id": "922d5231-22e1-43bc-8ad6-e42738f1e181",
   "metadata": {
    "tags": []
   },
   "outputs": [],
   "source": [
    "results = sp.user_playlists('spotify')\n",
    "playlists = results['items']\n",
    "while results['next']:\n",
    "    results = sp.next(results)\n",
    "    playlists.extend(results['items'])"
   ]
  },
  {
   "cell_type": "code",
   "execution_count": 5,
   "id": "3b62d25f-de3f-4e2a-b26d-12eb55b16fc1",
   "metadata": {
    "tags": []
   },
   "outputs": [],
   "source": [
    "playlist_id_list = []\n",
    "for i in playlists:\n",
    "    playlist_id_list.append(i['id'])"
   ]
  },
  {
   "cell_type": "markdown",
   "id": "8d98f0d7-76d5-47fc-b8ae-75a496ce1ced",
   "metadata": {},
   "source": [
    "### Splitting it into chunks, because of Spotify's API limits"
   ]
  },
  {
   "cell_type": "code",
   "execution_count": 6,
   "id": "68eb89ca-6b5b-40c6-841c-15fcdd47b068",
   "metadata": {
    "tags": []
   },
   "outputs": [],
   "source": [
    "def chunks(lst, n):\n",
    "    for i in range(0, len(lst), n):\n",
    "        yield lst[i:i + n]\n",
    "playlist_id_chunks = list(chunks(playlist_id_list, 50))"
   ]
  },
  {
   "cell_type": "code",
   "execution_count": 11,
   "id": "2c1cf310-d5df-4b2d-8cd4-c55508de30a4",
   "metadata": {
    "tags": []
   },
   "outputs": [],
   "source": [
    "df = pd.read_csv('../data/spotify_songs_v1.csv')"
   ]
  },
  {
   "cell_type": "code",
   "execution_count": 16,
   "id": "8101068b-1b19-4a5f-9f1e-d67db729e125",
   "metadata": {
    "tags": []
   },
   "outputs": [],
   "source": [
    "def playlists_spotify(df, playlist_id_list):\n",
    "    \"\"\"\n",
    "    The function takes a list with stored playlist id's.\n",
    "    It stores all the track id's and the corresponding audio features\n",
    "    from the tracks on these playlist in a dataframe.\n",
    "    \"\"\"\n",
    "    #df = pd.DataFrame()\n",
    "\n",
    "    for id_ in playlist_id_list:\n",
    "        results = sp.user_playlist_tracks('spotify', id_)\n",
    "        tracks = results['items']\n",
    "        while results['next']:\n",
    "            results = sp.next(results)\n",
    "            tracks.extend(results['items'])\n",
    "\n",
    "        track_id_list = [] \n",
    "        for i in tracks:\n",
    "            track_id_list.append(i['track']['id'])\n",
    "              \n",
    "        audio_list =[]\n",
    "        for i in track_id_list:\n",
    "            if i not in list(df['id']):\n",
    "                time.sleep(0.5)\n",
    "                audio_list.append(sp.audio_features(i)[0])\n",
    "\n",
    "        playlist_df = pd.DataFrame(audio_list)\n",
    "\n",
    "        df = pd.concat([df, playlist_df], ignore_index=True)\n",
    "    \n",
    "    return df"
   ]
  },
  {
   "cell_type": "code",
   "execution_count": 14,
   "id": "c1a84513-4695-46a2-bfee-49ae890d8365",
   "metadata": {
    "tags": []
   },
   "outputs": [],
   "source": [
    "df1 = playlists_spotify(playlist_id_chunks[0])"
   ]
  },
  {
   "cell_type": "code",
   "execution_count": 28,
   "id": "67c8dbb3-9a9c-44ae-ab96-46cb84681f3c",
   "metadata": {
    "tags": []
   },
   "outputs": [],
   "source": [
    "df1.to_csv('../data/tracks2.csv', index=False)"
   ]
  },
  {
   "cell_type": "code",
   "execution_count": 29,
   "id": "f9c98fa9-41bb-4e29-b187-f3a3d9c13ee9",
   "metadata": {
    "tags": []
   },
   "outputs": [],
   "source": [
    "df2 = playlists_spotify(playlist_id_chunks[1])"
   ]
  },
  {
   "cell_type": "code",
   "execution_count": 1,
   "id": "5f16a8be-fd4c-436f-95fb-13ea553a1038",
   "metadata": {
    "tags": []
   },
   "outputs": [],
   "source": [
    "#df3 = playlists_spotify(df, playlist_id_chunks[2])"
   ]
  },
  {
   "cell_type": "code",
   "execution_count": 37,
   "id": "c5dce51c-808a-47c3-8fe6-e81f6db7a575",
   "metadata": {
    "tags": []
   },
   "outputs": [],
   "source": [
    "df4 = playlists_spotify(playlist_id_chunks[3])"
   ]
  },
  {
   "cell_type": "code",
   "execution_count": 39,
   "id": "0e4732e3-8935-4508-bd1a-1bd3dad2ee2a",
   "metadata": {
    "tags": []
   },
   "outputs": [],
   "source": [
    "df5 = playlists_spotify(playlist_id_chunks[4])"
   ]
  },
  {
   "cell_type": "code",
   "execution_count": null,
   "id": "75797ad8-d43d-4ae7-9c3a-ac3822f65e14",
   "metadata": {
    "tags": []
   },
   "outputs": [],
   "source": [
    "df6 = playlists_spotify(playlist_id_chunks[5])"
   ]
  },
  {
   "cell_type": "code",
   "execution_count": 66,
   "id": "7cf89263-885c-4ef9-9922-2f8036a3547e",
   "metadata": {
    "tags": []
   },
   "outputs": [],
   "source": [
    "df7 = playlists_spotify(playlist_id_chunks[6])"
   ]
  },
  {
   "cell_type": "code",
   "execution_count": null,
   "id": "b2e89d40-e1e3-444d-a337-685cae9b01e7",
   "metadata": {
    "tags": []
   },
   "outputs": [],
   "source": [
    "df8 = playlists_spotify(playlist_id_chunks[7])"
   ]
  },
  {
   "cell_type": "code",
   "execution_count": null,
   "id": "70750483-2374-4d93-a25f-6fcdedf95c9a",
   "metadata": {
    "tags": []
   },
   "outputs": [],
   "source": [
    "df9 = playlists_spotify(playlist_id_chunks[8])"
   ]
  },
  {
   "cell_type": "code",
   "execution_count": null,
   "id": "5e8d21d2-76fb-4a90-87f7-429bc90bc782",
   "metadata": {
    "tags": []
   },
   "outputs": [],
   "source": [
    "df10 = playlists_spotify(playlist_id_chunks[9])"
   ]
  },
  {
   "cell_type": "code",
   "execution_count": null,
   "id": "29ba3a9e-1e4e-46d6-b86e-f00ef9043755",
   "metadata": {
    "tags": []
   },
   "outputs": [],
   "source": [
    "df11 = playlists_spotify(playlist_id_chunks[10])"
   ]
  },
  {
   "cell_type": "code",
   "execution_count": null,
   "id": "84879ee7-0c2c-4ccc-af04-96f78e92134d",
   "metadata": {
    "tags": []
   },
   "outputs": [],
   "source": [
    "df12 = playlists_spotify(playlist_id_chunks[11])"
   ]
  },
  {
   "cell_type": "code",
   "execution_count": null,
   "id": "e37908d7-8e57-4734-898c-813b30b30eb5",
   "metadata": {},
   "outputs": [],
   "source": [
    "df = pd.concat([df1, df2, df3, df4, df5, df6, df7, df8, df9, df10, df11, df12], ignore_index=True)"
   ]
  },
  {
   "cell_type": "code",
   "execution_count": null,
   "id": "f2528cef-5fba-46f0-a290-528e7552d7a5",
   "metadata": {
    "tags": []
   },
   "outputs": [],
   "source": [
    "df.to_csv('data/spotify_tracks.csv', index= False)"
   ]
  },
  {
   "cell_type": "code",
   "execution_count": null,
   "id": "72eed483-47ce-450b-8c2c-9b6ab673950e",
   "metadata": {},
   "outputs": [],
   "source": []
  }
 ],
 "metadata": {
  "kernelspec": {
   "display_name": "Python 3 (ipykernel)",
   "language": "python",
   "name": "python3"
  },
  "language_info": {
   "codemirror_mode": {
    "name": "ipython",
    "version": 3
   },
   "file_extension": ".py",
   "mimetype": "text/x-python",
   "name": "python",
   "nbconvert_exporter": "python",
   "pygments_lexer": "ipython3",
   "version": "3.9.18"
  }
 },
 "nbformat": 4,
 "nbformat_minor": 5
}

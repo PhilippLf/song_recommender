{
 "cells": [
  {
   "cell_type": "code",
   "execution_count": 1,
   "id": "21b45515-8737-4c89-b941-d63f46022620",
   "metadata": {},
   "outputs": [],
   "source": [
    "import pandas as pd\n",
    "from bs4 import BeautifulSoup\n",
    "import requests"
   ]
  },
  {
   "cell_type": "code",
   "execution_count": 47,
   "id": "82351712-b994-4a15-84d1-20177c08d9ab",
   "metadata": {
    "tags": []
   },
   "outputs": [],
   "source": [
    "url = \"https://www.oljo.de/single-charts-deutschland-taglich.php\""
   ]
  },
  {
   "cell_type": "code",
   "execution_count": 48,
   "id": "33878f45-f384-41c0-9755-99a4dd93d2b4",
   "metadata": {
    "tags": []
   },
   "outputs": [],
   "source": [
    "response = requests.get(url)"
   ]
  },
  {
   "cell_type": "code",
   "execution_count": 49,
   "id": "36d78b53-7aaf-4041-996e-224e95a02782",
   "metadata": {
    "tags": []
   },
   "outputs": [
    {
     "data": {
      "text/plain": [
       "200"
      ]
     },
     "execution_count": 49,
     "metadata": {},
     "output_type": "execute_result"
    }
   ],
   "source": [
    "response.status_code # 200 status code means OK!"
   ]
  },
  {
   "cell_type": "code",
   "execution_count": 50,
   "id": "cfc7d0af-a556-4833-8f35-a706d4b8e3fe",
   "metadata": {
    "tags": []
   },
   "outputs": [],
   "source": [
    "soup = BeautifulSoup(response.content, \"html.parser\")"
   ]
  },
  {
   "cell_type": "markdown",
   "id": "04dddda2-1609-4fbd-85e8-79f459c7c7a3",
   "metadata": {},
   "source": [
    "### Scraping artits names"
   ]
  },
  {
   "cell_type": "code",
   "execution_count": 63,
   "id": "6305abfc-86a8-46d5-a7e5-ecff0fff78d9",
   "metadata": {
    "tags": []
   },
   "outputs": [],
   "source": [
    "div_artists = soup.select('div.inutilander > div > strong')"
   ]
  },
  {
   "cell_type": "code",
   "execution_count": 64,
   "id": "57447bb9-9613-4cd8-bba3-e686855c371b",
   "metadata": {
    "tags": []
   },
   "outputs": [],
   "source": [
    "artists = []"
   ]
  },
  {
   "cell_type": "code",
   "execution_count": 65,
   "id": "cf8a732d-270a-47c1-9eb2-e860a6431805",
   "metadata": {
    "tags": []
   },
   "outputs": [],
   "source": [
    "for div in div_artists:\n",
    "    artists.append(div.get_text(strip=True).capitalize())"
   ]
  },
  {
   "cell_type": "code",
   "execution_count": 66,
   "id": "0aea2c91-b2be-4776-8f93-9a8b3d5e1166",
   "metadata": {
    "tags": []
   },
   "outputs": [
    {
     "data": {
      "text/plain": [
       "['Udo lindenberg & apache 207',\n",
       " 'Ski aggu & joost & otto waalkes',\n",
       " 'Luca-dante spadafora & niklas dee & octavian & peter plate &...',\n",
       " 'Sira & bausa & badchieff',\n",
       " 'Ski aggu & sira',\n",
       " 'Ayliva',\n",
       " 'Yung yury & damn yury',\n",
       " 'Apache 207',\n",
       " 'David kushner',\n",
       " 'Niklas dee & old jim',\n",
       " 'Raf camora & hoodblaq',\n",
       " 'Creeds',\n",
       " 'Miley cyrus',\n",
       " 'Bonez mc',\n",
       " 'Ayliva',\n",
       " 'Tiesto',\n",
       " '01099 & paul & ski aggu',\n",
       " 'Dave & central cee',\n",
       " 'Nina chuba',\n",
       " 'Miksu / macloud & makko',\n",
       " 'Purple disco machine & kungs',\n",
       " 'Bobby vandamme',\n",
       " 'David guetta & anne-marie & coi leray',\n",
       " 'The weeknd & madonna',\n",
       " 'Olivia rodrigo',\n",
       " 'Gunna',\n",
       " 'Apache 207',\n",
       " 'Peter fox',\n",
       " 'Nina chuba',\n",
       " 'Apache 207',\n",
       " 'Kalim',\n",
       " 'Eminem',\n",
       " 'Casper',\n",
       " 'Jung kook & latto',\n",
       " 'Kontra k',\n",
       " 'Dardan & azet',\n",
       " 'David guetta & bebe rexha',\n",
       " 'Loreen',\n",
       " 'Taylor swift',\n",
       " 'Apache 207',\n",
       " 'Billie eilish',\n",
       " 'Finch & tream',\n",
       " 'Tream & treamiboii',\n",
       " 'Tom odell',\n",
       " 'Ikke hüftgold & schürze & dj robin',\n",
       " 'Hoodblaq',\n",
       " 'Apache 207',\n",
       " 'Ski aggu & endzone & ericson',\n",
       " 'Ayliva',\n",
       " 'Michael schulte & r3hab',\n",
       " 'Pink',\n",
       " 'Pashanim',\n",
       " 'Harry styles',\n",
       " 'Post malone',\n",
       " '1986zig',\n",
       " 'Jazeek',\n",
       " \"Sinead o'connor\",\n",
       " 'Rubi',\n",
       " 'Miksu / macloud & makko & t-low',\n",
       " 'Dua lipa',\n",
       " 'Mark forster & kontra k',\n",
       " 'Jamal',\n",
       " 'Empire of the sun & southstar',\n",
       " 'Taylor swift',\n",
       " 'Azet & dardan',\n",
       " 'Jain',\n",
       " 'Azet & dj gimi-o',\n",
       " 'Julian sommer & mia julia',\n",
       " 'Luciano & aitch',\n",
       " 'Rin & miksu / macloud',\n",
       " 'Metro boomin & the weeknd & 21 savage',\n",
       " 'Ayliva',\n",
       " 'Bonez mc',\n",
       " '01099',\n",
       " 'Miksu / macloud & t-low',\n",
       " 'Ufo361 & lucidbeatz',\n",
       " 'Raf camora & ahmad amin',\n",
       " 'Fast boy & topic',\n",
       " 'Pashanim',\n",
       " 'Jonas blue & felix jaehn',\n",
       " 'Macklemore & ryan lewis & macklemore & ryan lewis & macklemore...',\n",
       " 'Jax jones & calum scott',\n",
       " 'Nina chuba & chapo102',\n",
       " 'Raf camora & luciano',\n",
       " 'Matt sassari',\n",
       " 'Hava & dardan',\n",
       " 'Yung yury & lena & niklas dee & luca-dante spadafora & damn...',\n",
       " 'Manu chao',\n",
       " 'Milky chance',\n",
       " 'Lea & 01099 & gustav & zachi',\n",
       " 'Montez & sdp',\n",
       " 'Peggy gou',\n",
       " 'Vize & joris sava & july',\n",
       " 'Honk & isi glück',\n",
       " 'The weeknd & ariana grande',\n",
       " 'Libianca',\n",
       " 'Nathan evans',\n",
       " 'Troye sivan',\n",
       " 'Ed sheeran',\n",
       " 'James hype & miggy dela rosa']"
      ]
     },
     "execution_count": 66,
     "metadata": {},
     "output_type": "execute_result"
    }
   ],
   "source": [
    "artists"
   ]
  },
  {
   "cell_type": "markdown",
   "id": "1ce56a59-13d8-481f-b5f3-0acda7adaaaf",
   "metadata": {},
   "source": [
    "### Scraping song names"
   ]
  },
  {
   "cell_type": "code",
   "execution_count": 70,
   "id": "ba9380da-0a51-41f9-8629-b76b7af39784",
   "metadata": {
    "tags": []
   },
   "outputs": [],
   "source": [
    "span_songs = soup.select('span.albtitel')"
   ]
  },
  {
   "cell_type": "code",
   "execution_count": 71,
   "id": "ed06e69a-b0f2-4582-8ce1-561c4fe1c207",
   "metadata": {
    "tags": []
   },
   "outputs": [],
   "source": [
    "songs = []"
   ]
  },
  {
   "cell_type": "code",
   "execution_count": 73,
   "id": "2a7fc26f-2baa-4f46-8221-482e5800fc41",
   "metadata": {
    "tags": []
   },
   "outputs": [],
   "source": [
    "for span in span_songs:\n",
    "    songs.append(span.get_text(strip=True).capitalize())"
   ]
  },
  {
   "cell_type": "code",
   "execution_count": 74,
   "id": "aaa7affd-b874-4727-864c-fc9fec4fe35c",
   "metadata": {
    "tags": []
   },
   "outputs": [
    {
     "data": {
      "text/plain": [
       "['Komet',\n",
       " 'Friesenjung',\n",
       " 'Mädchen auf dem pferd',\n",
       " '9 bis 9',\n",
       " 'Mietfrei',\n",
       " 'Weisses haus',\n",
       " 'Tabu',\n",
       " 'Breaking your heart',\n",
       " 'Daylight',\n",
       " 'Not fair',\n",
       " 'Tropicana',\n",
       " 'Push up',\n",
       " 'Flowers',\n",
       " 'So',\n",
       " 'In deinen armen',\n",
       " 'Lay low',\n",
       " 'Anders',\n",
       " 'Sprinter',\n",
       " 'Wildberry lillet',\n",
       " 'Nachts wach',\n",
       " 'Substitution',\n",
       " 'Brazil funk freestyle',\n",
       " \"Baby don't hurt me\",\n",
       " 'Popular',\n",
       " 'Vampire',\n",
       " 'Fukumean',\n",
       " 'Wenn das so bleibt',\n",
       " 'Zukunft pink',\n",
       " 'Mangos mit chili',\n",
       " 'Neunzig',\n",
       " '5ive on it',\n",
       " 'Mockingbird',\n",
       " 'Sommer',\n",
       " 'Seven',\n",
       " 'Was echtes',\n",
       " 'Malli',\n",
       " \"I'm good\",\n",
       " 'Tattoo',\n",
       " 'Cruel summer',\n",
       " 'Roller',\n",
       " 'What was i made for',\n",
       " 'Liebe auf der rückbank',\n",
       " 'Zelten auf kies',\n",
       " 'Another love',\n",
       " 'Bumsbar',\n",
       " 'Pass auf',\n",
       " 'Was weisst du schon',\n",
       " 'Party sahne',\n",
       " 'Sie weiss',\n",
       " 'Waterfall',\n",
       " 'Trustfall',\n",
       " 'Bagchaser can',\n",
       " 'As it was',\n",
       " 'Chemical',\n",
       " 'Sunshine',\n",
       " 'Superstars',\n",
       " 'Nothing compares 2 u',\n",
       " 'Only 4 life',\n",
       " 'Ich will',\n",
       " 'Dance the night',\n",
       " 'Wenn du mich vergisst',\n",
       " 'Rein gehen',\n",
       " 'We are the people',\n",
       " 'Anti-hero',\n",
       " 'Gang',\n",
       " 'Makeba',\n",
       " 'Bona',\n",
       " 'Peter pan',\n",
       " 'Bamba',\n",
       " 'Euphoria',\n",
       " \"Creepin'\",\n",
       " 'Aber sie',\n",
       " 'Alles nur kein star',\n",
       " 'Tempo',\n",
       " 'Sehnsucht',\n",
       " 'Match_3',\n",
       " 'Strada',\n",
       " 'Forget you',\n",
       " 'Sommergewitter',\n",
       " 'Weekends',\n",
       " \"Can't hold us\",\n",
       " 'Whistle',\n",
       " 'Ich hass dich',\n",
       " 'All night',\n",
       " 'Give it to me',\n",
       " 'Normal',\n",
       " 'Tabu rmx',\n",
       " 'Me gustas tu',\n",
       " 'Living in a haze',\n",
       " 'Aperol im glas',\n",
       " 'Fieber',\n",
       " '(it goes like) nanana',\n",
       " 'Ghost town',\n",
       " 'Delfin',\n",
       " 'Save your tears',\n",
       " 'People',\n",
       " 'Wellerman',\n",
       " 'Rush',\n",
       " 'Eyes closed',\n",
       " 'Ferrari']"
      ]
     },
     "execution_count": 74,
     "metadata": {},
     "output_type": "execute_result"
    }
   ],
   "source": [
    "songs"
   ]
  },
  {
   "cell_type": "markdown",
   "id": "ce29c44f-3914-49e4-97be-9da8e7a17678",
   "metadata": {},
   "source": [
    "### Creating DataFrame and csv"
   ]
  },
  {
   "cell_type": "code",
   "execution_count": 75,
   "id": "ebaf8f67-b827-477f-b99c-990c55f12a95",
   "metadata": {
    "tags": []
   },
   "outputs": [],
   "source": [
    "german_50 = pd.DataFrame({'artist':artists,'song_title':songs})"
   ]
  },
  {
   "cell_type": "code",
   "execution_count": 76,
   "id": "ee4f9bba-5eee-4d64-b751-2741a2f40831",
   "metadata": {
    "tags": []
   },
   "outputs": [],
   "source": [
    "german_50.to_csv('data/german_50.csv', index= False)"
   ]
  },
  {
   "cell_type": "code",
   "execution_count": null,
   "id": "bb178bca-6330-4d8c-863c-a5b7e8d61615",
   "metadata": {},
   "outputs": [],
   "source": []
  }
 ],
 "metadata": {
  "kernelspec": {
   "display_name": "Python 3 (ipykernel)",
   "language": "python",
   "name": "python3"
  },
  "language_info": {
   "codemirror_mode": {
    "name": "ipython",
    "version": 3
   },
   "file_extension": ".py",
   "mimetype": "text/x-python",
   "name": "python",
   "nbconvert_exporter": "python",
   "pygments_lexer": "ipython3",
   "version": "3.9.17"
  }
 },
 "nbformat": 4,
 "nbformat_minor": 5
}

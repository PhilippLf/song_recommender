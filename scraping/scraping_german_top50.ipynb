{
 "cells": [
  {
   "cell_type": "code",
   "execution_count": 1,
   "id": "21b45515-8737-4c89-b941-d63f46022620",
   "metadata": {},
   "outputs": [],
   "source": [
    "import pandas as pd\n",
    "from bs4 import BeautifulSoup\n",
    "import requests"
   ]
  },
  {
   "cell_type": "code",
   "execution_count": 2,
   "id": "82351712-b994-4a15-84d1-20177c08d9ab",
   "metadata": {
    "tags": []
   },
   "outputs": [],
   "source": [
    "url = \"https://www.oljo.de/single-charts-deutschland-taglich.php\""
   ]
  },
  {
   "cell_type": "code",
   "execution_count": 3,
   "id": "33878f45-f384-41c0-9755-99a4dd93d2b4",
   "metadata": {
    "tags": []
   },
   "outputs": [],
   "source": [
    "response = requests.get(url)"
   ]
  },
  {
   "cell_type": "code",
   "execution_count": 4,
   "id": "36d78b53-7aaf-4041-996e-224e95a02782",
   "metadata": {
    "tags": []
   },
   "outputs": [
    {
     "data": {
      "text/plain": [
       "200"
      ]
     },
     "execution_count": 4,
     "metadata": {},
     "output_type": "execute_result"
    }
   ],
   "source": [
    "response.status_code # 200 status code means OK!"
   ]
  },
  {
   "cell_type": "code",
   "execution_count": 5,
   "id": "cfc7d0af-a556-4833-8f35-a706d4b8e3fe",
   "metadata": {
    "tags": []
   },
   "outputs": [],
   "source": [
    "soup = BeautifulSoup(response.content, \"html.parser\")"
   ]
  },
  {
   "cell_type": "markdown",
   "id": "04dddda2-1609-4fbd-85e8-79f459c7c7a3",
   "metadata": {},
   "source": [
    "### Scraping artits names"
   ]
  },
  {
   "cell_type": "code",
   "execution_count": 6,
   "id": "6305abfc-86a8-46d5-a7e5-ecff0fff78d9",
   "metadata": {
    "tags": []
   },
   "outputs": [],
   "source": [
    "div_artists = soup.select('div.inutilander > div > strong')"
   ]
  },
  {
   "cell_type": "code",
   "execution_count": 7,
   "id": "57447bb9-9613-4cd8-bba3-e686855c371b",
   "metadata": {
    "tags": []
   },
   "outputs": [],
   "source": [
    "artists = []"
   ]
  },
  {
   "cell_type": "code",
   "execution_count": 9,
   "id": "cf8a732d-270a-47c1-9eb2-e860a6431805",
   "metadata": {
    "tags": []
   },
   "outputs": [],
   "source": [
    "for div in div_artists:\n",
    "    artists.append(div.get_text(strip=True).title())"
   ]
  },
  {
   "cell_type": "code",
   "execution_count": 10,
   "id": "0aea2c91-b2be-4776-8f93-9a8b3d5e1166",
   "metadata": {
    "tags": []
   },
   "outputs": [
    {
     "data": {
      "text/plain": [
       "['Udo Lindenberg & Apache 207',\n",
       " 'Ski Aggu & Joost & Otto Waalkes',\n",
       " 'Luca-Dante Spadafora & Niklas Dee & Octavian & Peter Plate &...',\n",
       " 'Sira & Bausa & Badchieff',\n",
       " 'Ski Aggu & Sira',\n",
       " 'Ayliva',\n",
       " 'Yung Yury & Damn Yury',\n",
       " 'Apache 207',\n",
       " 'David Kushner',\n",
       " 'Niklas Dee & Old Jim',\n",
       " 'Raf Camora & Hoodblaq',\n",
       " 'Creeds',\n",
       " 'Miley Cyrus',\n",
       " 'Bonez Mc',\n",
       " 'Ayliva',\n",
       " 'Tiesto',\n",
       " '01099 & Paul & Ski Aggu',\n",
       " 'Dave & Central Cee',\n",
       " 'Nina Chuba',\n",
       " 'Miksu / Macloud & Makko',\n",
       " 'Purple Disco Machine & Kungs',\n",
       " 'Bobby Vandamme',\n",
       " 'David Guetta & Anne-Marie & Coi Leray',\n",
       " 'The Weeknd & Madonna',\n",
       " 'Olivia Rodrigo',\n",
       " 'Gunna',\n",
       " 'Apache 207',\n",
       " 'Peter Fox',\n",
       " 'Nina Chuba',\n",
       " 'Apache 207',\n",
       " 'Kalim',\n",
       " 'Eminem',\n",
       " 'Casper',\n",
       " 'Jung Kook & Latto',\n",
       " 'Kontra K',\n",
       " 'Dardan & Azet',\n",
       " 'David Guetta & Bebe Rexha',\n",
       " 'Loreen',\n",
       " 'Taylor Swift',\n",
       " 'Apache 207',\n",
       " 'Billie Eilish',\n",
       " 'Finch & Tream',\n",
       " 'Tream & Treamiboii',\n",
       " 'Tom Odell',\n",
       " 'Ikke Hüftgold & Schürze & Dj Robin',\n",
       " 'Hoodblaq',\n",
       " 'Apache 207',\n",
       " 'Ski Aggu & Endzone & Ericson',\n",
       " 'Ayliva',\n",
       " 'Michael Schulte & R3Hab',\n",
       " 'Pink',\n",
       " 'Pashanim',\n",
       " 'Harry Styles',\n",
       " 'Post Malone',\n",
       " '1986Zig',\n",
       " 'Jazeek',\n",
       " \"Sinead O'Connor\",\n",
       " 'Rubi',\n",
       " 'Miksu / Macloud & Makko & T-Low',\n",
       " 'Dua Lipa',\n",
       " 'Mark Forster & Kontra K',\n",
       " 'Jamal',\n",
       " 'Empire Of The Sun & Southstar',\n",
       " 'Taylor Swift',\n",
       " 'Azet & Dardan',\n",
       " 'Jain',\n",
       " 'Azet & Dj Gimi-O',\n",
       " 'Julian Sommer & Mia Julia',\n",
       " 'Luciano & Aitch',\n",
       " 'Rin & Miksu / Macloud',\n",
       " 'Metro Boomin & The Weeknd & 21 Savage',\n",
       " 'Ayliva',\n",
       " 'Bonez Mc',\n",
       " '01099',\n",
       " 'Miksu / Macloud & T-Low',\n",
       " 'Ufo361 & Lucidbeatz',\n",
       " 'Raf Camora & Ahmad Amin',\n",
       " 'Fast Boy & Topic',\n",
       " 'Pashanim',\n",
       " 'Jonas Blue & Felix Jaehn',\n",
       " 'Macklemore & Ryan Lewis & Macklemore & Ryan Lewis & Macklemore...',\n",
       " 'Jax Jones & Calum Scott',\n",
       " 'Nina Chuba & Chapo102',\n",
       " 'Raf Camora & Luciano',\n",
       " 'Matt Sassari',\n",
       " 'Hava & Dardan',\n",
       " 'Yung Yury & Lena & Niklas Dee & Luca-Dante Spadafora & Damn...',\n",
       " 'Manu Chao',\n",
       " 'Milky Chance',\n",
       " 'Lea & 01099 & Gustav & Zachi',\n",
       " 'Montez & Sdp',\n",
       " 'Peggy Gou',\n",
       " 'Vize & Joris Sava & July',\n",
       " 'Honk & Isi Glück',\n",
       " 'The Weeknd & Ariana Grande',\n",
       " 'Libianca',\n",
       " 'Nathan Evans',\n",
       " 'Troye Sivan',\n",
       " 'Ed Sheeran',\n",
       " 'James Hype & Miggy Dela Rosa']"
      ]
     },
     "execution_count": 10,
     "metadata": {},
     "output_type": "execute_result"
    }
   ],
   "source": [
    "artists"
   ]
  },
  {
   "cell_type": "markdown",
   "id": "1ce56a59-13d8-481f-b5f3-0acda7adaaaf",
   "metadata": {},
   "source": [
    "### Scraping song names"
   ]
  },
  {
   "cell_type": "code",
   "execution_count": 26,
   "id": "ba9380da-0a51-41f9-8629-b76b7af39784",
   "metadata": {
    "tags": []
   },
   "outputs": [],
   "source": [
    "span_songs = soup.select('span.albtitel')"
   ]
  },
  {
   "cell_type": "code",
   "execution_count": 27,
   "id": "ed06e69a-b0f2-4582-8ce1-561c4fe1c207",
   "metadata": {
    "tags": []
   },
   "outputs": [],
   "source": [
    "songs = []"
   ]
  },
  {
   "cell_type": "code",
   "execution_count": 28,
   "id": "2a7fc26f-2baa-4f46-8221-482e5800fc41",
   "metadata": {
    "tags": []
   },
   "outputs": [],
   "source": [
    "for span in span_songs:\n",
    "    songs.append(span.get_text(strip=True).title())"
   ]
  },
  {
   "cell_type": "code",
   "execution_count": 29,
   "id": "aaa7affd-b874-4727-864c-fc9fec4fe35c",
   "metadata": {
    "tags": []
   },
   "outputs": [
    {
     "data": {
      "text/plain": [
       "['Komet',\n",
       " 'Friesenjung',\n",
       " 'Mädchen Auf Dem Pferd',\n",
       " '9 Bis 9',\n",
       " 'Mietfrei',\n",
       " 'Weisses Haus',\n",
       " 'Tabu',\n",
       " 'Breaking Your Heart',\n",
       " 'Daylight',\n",
       " 'Not Fair',\n",
       " 'Tropicana',\n",
       " 'Push Up',\n",
       " 'Flowers',\n",
       " 'So',\n",
       " 'In Deinen Armen',\n",
       " 'Lay Low',\n",
       " 'Anders',\n",
       " 'Sprinter',\n",
       " 'Wildberry Lillet',\n",
       " 'Nachts Wach',\n",
       " 'Substitution',\n",
       " 'Brazil Funk Freestyle',\n",
       " \"Baby Don'T Hurt Me\",\n",
       " 'Popular',\n",
       " 'Vampire',\n",
       " 'Fukumean',\n",
       " 'Wenn Das So Bleibt',\n",
       " 'Zukunft Pink',\n",
       " 'Mangos Mit Chili',\n",
       " 'Neunzig',\n",
       " '5Ive On It',\n",
       " 'Mockingbird',\n",
       " 'Sommer',\n",
       " 'Seven',\n",
       " 'Was Echtes',\n",
       " 'Malli',\n",
       " \"I'M Good\",\n",
       " 'Tattoo',\n",
       " 'Cruel Summer',\n",
       " 'Roller',\n",
       " 'What Was I Made For',\n",
       " 'Liebe Auf Der Rückbank',\n",
       " 'Zelten Auf Kies',\n",
       " 'Another Love',\n",
       " 'Bumsbar',\n",
       " 'Pass Auf',\n",
       " 'Was Weisst Du Schon',\n",
       " 'Party Sahne',\n",
       " 'Sie Weiss',\n",
       " 'Waterfall',\n",
       " 'Trustfall',\n",
       " 'Bagchaser Can',\n",
       " 'As It Was',\n",
       " 'Chemical',\n",
       " 'Sunshine',\n",
       " 'Superstars',\n",
       " 'Nothing Compares 2 U',\n",
       " 'Only 4 Life',\n",
       " 'Ich Will',\n",
       " 'Dance The Night',\n",
       " 'Wenn Du Mich Vergisst',\n",
       " 'Rein Gehen',\n",
       " 'We Are The People',\n",
       " 'Anti-Hero',\n",
       " 'Gang',\n",
       " 'Makeba',\n",
       " 'Bona',\n",
       " 'Peter Pan',\n",
       " 'Bamba',\n",
       " 'Euphoria',\n",
       " \"Creepin'\",\n",
       " 'Aber Sie',\n",
       " 'Alles Nur Kein Star',\n",
       " 'Tempo',\n",
       " 'Sehnsucht',\n",
       " 'Match_3',\n",
       " 'Strada',\n",
       " 'Forget You',\n",
       " 'Sommergewitter',\n",
       " 'Weekends',\n",
       " \"Can'T Hold Us\",\n",
       " 'Whistle',\n",
       " 'Ich Hass Dich',\n",
       " 'All Night',\n",
       " 'Give It To Me',\n",
       " 'Normal',\n",
       " 'Tabu Rmx',\n",
       " 'Me Gustas Tu',\n",
       " 'Living In A Haze',\n",
       " 'Aperol Im Glas',\n",
       " 'Fieber',\n",
       " '(It Goes Like) Nanana',\n",
       " 'Ghost Town',\n",
       " 'Delfin',\n",
       " 'Save Your Tears',\n",
       " 'People',\n",
       " 'Wellerman',\n",
       " 'Rush',\n",
       " 'Eyes Closed',\n",
       " 'Ferrari']"
      ]
     },
     "execution_count": 29,
     "metadata": {},
     "output_type": "execute_result"
    }
   ],
   "source": [
    "songs"
   ]
  },
  {
   "cell_type": "markdown",
   "id": "ce29c44f-3914-49e4-97be-9da8e7a17678",
   "metadata": {},
   "source": [
    "### Creating DataFrame and csv"
   ]
  },
  {
   "cell_type": "code",
   "execution_count": 30,
   "id": "ebaf8f67-b827-477f-b99c-990c55f12a95",
   "metadata": {
    "tags": []
   },
   "outputs": [],
   "source": [
    "german_50 = pd.DataFrame({'artist':artists,'song_title':songs})"
   ]
  },
  {
   "cell_type": "code",
   "execution_count": 31,
   "id": "ee4f9bba-5eee-4d64-b751-2741a2f40831",
   "metadata": {
    "tags": []
   },
   "outputs": [],
   "source": [
    "german_50.to_csv('data/german_50.csv', index= False)"
   ]
  },
  {
   "cell_type": "code",
   "execution_count": null,
   "id": "bb178bca-6330-4d8c-863c-a5b7e8d61615",
   "metadata": {},
   "outputs": [],
   "source": []
  }
 ],
 "metadata": {
  "kernelspec": {
   "display_name": "Python 3 (ipykernel)",
   "language": "python",
   "name": "python3"
  },
  "language_info": {
   "codemirror_mode": {
    "name": "ipython",
    "version": 3
   },
   "file_extension": ".py",
   "mimetype": "text/x-python",
   "name": "python",
   "nbconvert_exporter": "python",
   "pygments_lexer": "ipython3",
   "version": "3.9.17"
  }
 },
 "nbformat": 4,
 "nbformat_minor": 5
}

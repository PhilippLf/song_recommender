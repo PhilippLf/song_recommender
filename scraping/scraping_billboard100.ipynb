{
 "cells": [
  {
   "cell_type": "code",
   "execution_count": 1,
   "id": "21b45515-8737-4c89-b941-d63f46022620",
   "metadata": {},
   "outputs": [],
   "source": [
    "import pandas as pd\n",
    "from bs4 import BeautifulSoup\n",
    "import requests"
   ]
  },
  {
   "cell_type": "code",
   "execution_count": 2,
   "id": "82351712-b994-4a15-84d1-20177c08d9ab",
   "metadata": {
    "tags": []
   },
   "outputs": [],
   "source": [
    "url = \"https://www.billboard.com/charts/hot-100/\""
   ]
  },
  {
   "cell_type": "code",
   "execution_count": 3,
   "id": "33878f45-f384-41c0-9755-99a4dd93d2b4",
   "metadata": {
    "tags": []
   },
   "outputs": [],
   "source": [
    "response = requests.get(url)"
   ]
  },
  {
   "cell_type": "code",
   "execution_count": 4,
   "id": "36d78b53-7aaf-4041-996e-224e95a02782",
   "metadata": {
    "tags": []
   },
   "outputs": [
    {
     "data": {
      "text/plain": [
       "200"
      ]
     },
     "execution_count": 4,
     "metadata": {},
     "output_type": "execute_result"
    }
   ],
   "source": [
    "response.status_code # 200 status code means OK!"
   ]
  },
  {
   "cell_type": "code",
   "execution_count": 5,
   "id": "cfc7d0af-a556-4833-8f35-a706d4b8e3fe",
   "metadata": {
    "tags": []
   },
   "outputs": [],
   "source": [
    "soup = BeautifulSoup(response.content, \"html.parser\")"
   ]
  },
  {
   "cell_type": "markdown",
   "id": "04dddda2-1609-4fbd-85e8-79f459c7c7a3",
   "metadata": {},
   "source": [
    "### Scraping artits names"
   ]
  },
  {
   "cell_type": "code",
   "execution_count": 6,
   "id": "6305abfc-86a8-46d5-a7e5-ecff0fff78d9",
   "metadata": {
    "tags": []
   },
   "outputs": [],
   "source": [
    "span_artists = soup.select('span.a-no-trucate')"
   ]
  },
  {
   "cell_type": "code",
   "execution_count": 7,
   "id": "57447bb9-9613-4cd8-bba3-e686855c371b",
   "metadata": {
    "tags": []
   },
   "outputs": [],
   "source": [
    "artists = []"
   ]
  },
  {
   "cell_type": "code",
   "execution_count": 8,
   "id": "cf8a732d-270a-47c1-9eb2-e860a6431805",
   "metadata": {
    "tags": []
   },
   "outputs": [],
   "source": [
    "for span in span_artists:\n",
    "    artists.append(span.get_text(strip=True))"
   ]
  },
  {
   "cell_type": "code",
   "execution_count": 9,
   "id": "0aea2c91-b2be-4776-8f93-9a8b3d5e1166",
   "metadata": {
    "tags": []
   },
   "outputs": [
    {
     "data": {
      "text/plain": [
       "['Zach Bryan Featuring Kacey Musgraves',\n",
       " 'Luke Combs',\n",
       " 'Doja Cat',\n",
       " 'Morgan Wallen',\n",
       " 'Taylor Swift',\n",
       " 'Oliver Anthony Music',\n",
       " 'SZA',\n",
       " 'Miley Cyrus',\n",
       " 'Dua Lipa',\n",
       " 'Gunna',\n",
       " 'Rema & Selena Gomez',\n",
       " 'Olivia Rodrigo',\n",
       " 'Nicki Minaj & Ice Spice With Aqua',\n",
       " 'Zach Bryan Featuring The War And Treaty',\n",
       " 'Miley Cyrus',\n",
       " 'Lil Durk Featuring J. Cole',\n",
       " 'Zach Bryan Featuring The Lumineers',\n",
       " 'Zach Bryan',\n",
       " 'Selena Gomez',\n",
       " 'Zach Bryan',\n",
       " 'Bailey Zimmerman',\n",
       " 'Zach Bryan',\n",
       " 'Zach Bryan',\n",
       " 'Zach Bryan',\n",
       " 'Taylor Swift Featuring Ice Spice',\n",
       " 'Jelly Roll',\n",
       " 'SZA',\n",
       " 'Jung Kook Featuring Latto',\n",
       " 'Zach Bryan',\n",
       " 'Billie Eilish',\n",
       " 'Zach Bryan',\n",
       " 'Taylor Swift',\n",
       " 'Metro Boomin, The Weeknd & 21 Savage',\n",
       " 'Morgan Wallen',\n",
       " 'Olivia Rodrigo',\n",
       " 'Travis Scott Featuring Drake',\n",
       " 'Zach Bryan Featuring Sierra Ferrell',\n",
       " 'Zach Bryan',\n",
       " 'Zach Bryan',\n",
       " 'Luke Combs',\n",
       " 'Zach Bryan',\n",
       " 'Noah Kahan With Post Malone',\n",
       " 'Karol G & Peso Pluma',\n",
       " 'Zach Bryan',\n",
       " 'Jason Aldean',\n",
       " 'Lainey Wilson',\n",
       " 'Zach Bryan',\n",
       " 'Fifty Fifty',\n",
       " 'Travis Scott',\n",
       " 'Karol G',\n",
       " 'Kane Brown',\n",
       " 'David Kushner',\n",
       " 'Doechii Featuring Kodak Black',\n",
       " 'Myke Towers',\n",
       " 'Travis Scott Featuring SZA & Future',\n",
       " 'Peso Pluma, Gabito Ballesteros & Junior H',\n",
       " 'Grupo Frontera X Bad Bunny',\n",
       " 'Travis Scott Featuring Playboi Carti',\n",
       " 'Young Nudy Featuring 21 Savage',\n",
       " 'Latto Featuring Cardi B',\n",
       " 'Post Malone',\n",
       " 'Tim McGraw',\n",
       " 'Chris Stapleton',\n",
       " 'Ice Spice',\n",
       " 'Usher, Summer Walker & 21 Savage',\n",
       " 'Bad Bunny',\n",
       " 'Travis Scott, Bad Bunny & The Weeknd',\n",
       " 'HARDY',\n",
       " 'Ice Spice & Nicki Minaj',\n",
       " 'Peso Pluma & Grupo Frontera',\n",
       " 'The Weeknd, Playboi Carti & Madonna',\n",
       " 'Jon Pardi',\n",
       " 'Morgan Wallen',\n",
       " 'Fuerza Regida',\n",
       " 'That Mexican OT, Paul Wall & DRODi',\n",
       " 'Zach Bryan Featuring Maggie Rogers',\n",
       " 'Thomas Rhett',\n",
       " 'DaBaby',\n",
       " 'Kaliii',\n",
       " 'Burna Boy',\n",
       " 'Young Thug Featuring Drake',\n",
       " 'Teddy Swims',\n",
       " 'Tyler Childers',\n",
       " 'Jelly Roll With Lainey Wilson',\n",
       " 'Rod Wave',\n",
       " 'Karol G',\n",
       " 'Tyler, The Creator Featuring Kali Uchis',\n",
       " 'Zach Bryan',\n",
       " 'Miley Cyrus',\n",
       " 'Karol G',\n",
       " 'Fuerza Regida',\n",
       " 'Warren Zeiders',\n",
       " 'Lil Durk Featuring Morgan Wallen',\n",
       " 'Gucci Mane Featuring J. Cole & Mike WiLL Made-It',\n",
       " 'NewJeans',\n",
       " 'Chris Brown',\n",
       " 'Carin Leon',\n",
       " 'Victoria Monet',\n",
       " 'Parmalee',\n",
       " 'Peso Pluma']"
      ]
     },
     "execution_count": 9,
     "metadata": {},
     "output_type": "execute_result"
    }
   ],
   "source": [
    "artists"
   ]
  },
  {
   "cell_type": "markdown",
   "id": "1ce56a59-13d8-481f-b5f3-0acda7adaaaf",
   "metadata": {},
   "source": [
    "### Scraping song names"
   ]
  },
  {
   "cell_type": "code",
   "execution_count": 10,
   "id": "ba9380da-0a51-41f9-8629-b76b7af39784",
   "metadata": {
    "tags": []
   },
   "outputs": [],
   "source": [
    "h3_songs = soup.select('h3.a-no-trucate')"
   ]
  },
  {
   "cell_type": "code",
   "execution_count": 11,
   "id": "ed06e69a-b0f2-4582-8ce1-561c4fe1c207",
   "metadata": {
    "tags": []
   },
   "outputs": [],
   "source": [
    "songs = []"
   ]
  },
  {
   "cell_type": "code",
   "execution_count": 12,
   "id": "2a7fc26f-2baa-4f46-8221-482e5800fc41",
   "metadata": {
    "tags": []
   },
   "outputs": [],
   "source": [
    "for h3 in h3_songs:\n",
    "    songs.append(h3.get_text(strip=True))"
   ]
  },
  {
   "cell_type": "code",
   "execution_count": 13,
   "id": "aaa7affd-b874-4727-864c-fc9fec4fe35c",
   "metadata": {
    "tags": []
   },
   "outputs": [
    {
     "data": {
      "text/plain": [
       "['I Remember Everything',\n",
       " 'Fast Car',\n",
       " 'Paint The Town Red',\n",
       " 'Last Night',\n",
       " 'Cruel Summer',\n",
       " 'Rich Men North Of Richmond',\n",
       " 'Snooze',\n",
       " 'Used To Be Young',\n",
       " 'Dance The Night',\n",
       " 'Fukumean',\n",
       " 'Calm Down',\n",
       " 'Vampire',\n",
       " 'Barbie World',\n",
       " 'Hey Driver',\n",
       " 'Flowers',\n",
       " 'All My Life',\n",
       " 'Spotless',\n",
       " 'East Side Of Sorrow',\n",
       " 'Single Soon',\n",
       " 'Tourniquet',\n",
       " 'Religiously',\n",
       " 'Overtime',\n",
       " \"Summertime's Close\",\n",
       " \"Fear And Friday's\",\n",
       " 'Karma',\n",
       " 'Need A Favor',\n",
       " 'Kill Bill',\n",
       " 'Seven',\n",
       " 'Ticking',\n",
       " 'What Was I Made For?',\n",
       " 'El Dorado',\n",
       " 'Anti-Hero',\n",
       " \"Creepin'\",\n",
       " \"Thinkin' Bout Me\",\n",
       " 'Bad Idea Right?',\n",
       " 'Meltdown',\n",
       " 'Holy Roller',\n",
       " 'Smaller Acts',\n",
       " \"Fear And Friday's (Poem)\",\n",
       " 'Love You Anyway',\n",
       " \"Jake's Piano - Long Island\",\n",
       " 'Dial Drunk',\n",
       " 'Qlona',\n",
       " 'Tradesman',\n",
       " 'Try That In A Small Town',\n",
       " 'Watermelon Moonshine',\n",
       " 'Oklahoman Son',\n",
       " 'Cupid',\n",
       " 'I Know ?',\n",
       " 'Mi Ex Tenia Razon',\n",
       " 'Bury Me In Georgia',\n",
       " 'Daylight',\n",
       " 'What It Is (Block Boy)',\n",
       " 'LaLa',\n",
       " 'Telekinesis',\n",
       " 'Lady Gaga',\n",
       " 'Un x100to',\n",
       " 'FE!N',\n",
       " 'Peaches & Eggplants',\n",
       " 'Put It On Da Floor Again',\n",
       " 'Chemical',\n",
       " 'Standing Room Only',\n",
       " 'White Horse',\n",
       " 'Deli',\n",
       " 'Good Good',\n",
       " 'Where She Goes',\n",
       " 'K-POP',\n",
       " 'Truck Bed',\n",
       " 'Princess Diana',\n",
       " 'Tulum',\n",
       " 'Popular',\n",
       " 'Your Heart Or Mine',\n",
       " 'Everything I Love',\n",
       " 'Sabor Fresa',\n",
       " 'Johnny Dang',\n",
       " 'Dawns',\n",
       " \"Angels Don't Always Have Wings\",\n",
       " 'Shake Sumn',\n",
       " 'Area Codes',\n",
       " \"Sittin' On Top Of The World\",\n",
       " 'Oh U Went',\n",
       " 'Lose Control',\n",
       " 'In Your Love',\n",
       " 'Save Me',\n",
       " 'Call Your Friends',\n",
       " 'S91',\n",
       " 'See You Again',\n",
       " 'Oklahoma Smoke Show',\n",
       " 'Jaded',\n",
       " 'Amargura',\n",
       " 'TQM',\n",
       " 'Pretty Little Poison',\n",
       " 'Stand By Me',\n",
       " 'There I Go',\n",
       " 'Super Shy',\n",
       " 'Summer Too Hot',\n",
       " 'Primera Cita',\n",
       " 'On My Mama',\n",
       " 'Girl In Mine',\n",
       " 'Rubicon']"
      ]
     },
     "execution_count": 13,
     "metadata": {},
     "output_type": "execute_result"
    }
   ],
   "source": [
    "songs"
   ]
  },
  {
   "cell_type": "markdown",
   "id": "ce29c44f-3914-49e4-97be-9da8e7a17678",
   "metadata": {},
   "source": [
    "### Creating DataFrame and csv"
   ]
  },
  {
   "cell_type": "code",
   "execution_count": 19,
   "id": "ebaf8f67-b827-477f-b99c-990c55f12a95",
   "metadata": {
    "tags": []
   },
   "outputs": [],
   "source": [
    "billboard_100 = pd.DataFrame({'artist':artists,'song_title':songs})"
   ]
  },
  {
   "cell_type": "code",
   "execution_count": 20,
   "id": "ee4f9bba-5eee-4d64-b751-2741a2f40831",
   "metadata": {
    "tags": []
   },
   "outputs": [],
   "source": [
    "billboard_100.to_csv('data/billboard_100.csv', index= False)"
   ]
  },
  {
   "cell_type": "code",
   "execution_count": null,
   "id": "bb178bca-6330-4d8c-863c-a5b7e8d61615",
   "metadata": {},
   "outputs": [],
   "source": []
  }
 ],
 "metadata": {
  "kernelspec": {
   "display_name": "Python 3 (ipykernel)",
   "language": "python",
   "name": "python3"
  },
  "language_info": {
   "codemirror_mode": {
    "name": "ipython",
    "version": 3
   },
   "file_extension": ".py",
   "mimetype": "text/x-python",
   "name": "python",
   "nbconvert_exporter": "python",
   "pygments_lexer": "ipython3",
   "version": "3.9.17"
  }
 },
 "nbformat": 4,
 "nbformat_minor": 5
}

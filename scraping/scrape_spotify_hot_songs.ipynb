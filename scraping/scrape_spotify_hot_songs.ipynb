{
 "cells": [
  {
   "cell_type": "code",
   "execution_count": 1,
   "id": "1c4a4ee1-715e-4b01-9f58-5cf688c16339",
   "metadata": {
    "tags": []
   },
   "outputs": [],
   "source": [
    "import config"
   ]
  },
  {
   "cell_type": "code",
   "execution_count": 2,
   "id": "9ceaa46a-0c1c-467b-8c44-9776d4b76a4e",
   "metadata": {
    "tags": []
   },
   "outputs": [],
   "source": [
    "import spotipy\n",
    "import json\n",
    "from spotipy.oauth2 import SpotifyClientCredentials\n",
    "\n",
    "\n",
    "#Initialize SpotiPy with user credentials\n",
    "sp = spotipy.Spotify(auth_manager=SpotifyClientCredentials(client_id= config.client_id,\n",
    "                                                           client_secret= config.client_secret))"
   ]
  },
  {
   "cell_type": "code",
   "execution_count": 5,
   "id": "c84abc27-b213-40b7-84e8-3ed475901a19",
   "metadata": {
    "tags": []
   },
   "outputs": [],
   "source": [
    "results = sp.user_playlist_tracks('spotify', '37i9dQZF1DX4jP4eebSWR9', market='DE')\n",
    "tracks = results['items']\n",
    "while results['next']:\n",
    "    results = sp.next(results)\n",
    "    tracks.extend(results['items'])"
   ]
  },
  {
   "cell_type": "code",
   "execution_count": 9,
   "id": "5703d6a3-9aac-4f74-9442-a15ddb8ca5ae",
   "metadata": {
    "tags": []
   },
   "outputs": [
    {
     "data": {
      "text/plain": [
       "'Vois sur ton chemin - Techno Mix'"
      ]
     },
     "execution_count": 9,
     "metadata": {},
     "output_type": "execute_result"
    }
   ],
   "source": [
    "results['items'][0]['track']['name']"
   ]
  },
  {
   "cell_type": "code",
   "execution_count": 11,
   "id": "03ef3c23-8fab-40a2-b13f-fe6348ee7ca5",
   "metadata": {
    "tags": []
   },
   "outputs": [
    {
     "data": {
      "text/plain": [
       "'BENNETT'"
      ]
     },
     "execution_count": 11,
     "metadata": {},
     "output_type": "execute_result"
    }
   ],
   "source": [
    "results['items'][0]['track']['artists'][0]['name']"
   ]
  },
  {
   "cell_type": "code",
   "execution_count": 12,
   "id": "45d5e113-7ca3-4954-9596-f46a394c5537",
   "metadata": {
    "tags": []
   },
   "outputs": [],
   "source": [
    "import pprint\n",
    "#pprint.pprint(results)"
   ]
  },
  {
   "cell_type": "code",
   "execution_count": 13,
   "id": "6c9a94b1-20a6-4f85-bba5-144a5384a872",
   "metadata": {
    "tags": []
   },
   "outputs": [],
   "source": [
    "track_id_list = [] \n",
    "for i in tracks:\n",
    "    track_id_list.append(i['track']['id'])"
   ]
  },
  {
   "cell_type": "code",
   "execution_count": 15,
   "id": "c5feb5c3-282b-48a0-b5f6-41550668dcf9",
   "metadata": {
    "tags": []
   },
   "outputs": [],
   "source": [
    "audio_list =[]\n",
    "for i in track_id_list:\n",
    "    audio_list.append(sp.audio_features(i)[0])"
   ]
  },
  {
   "cell_type": "code",
   "execution_count": 19,
   "id": "d9a2ad19-ba33-4e17-b5f1-b95d4ec739a6",
   "metadata": {
    "tags": []
   },
   "outputs": [],
   "source": [
    "track_name_list = []\n",
    "for i in tracks:\n",
    "    track_name_list.append(i['track']['name'])"
   ]
  },
  {
   "cell_type": "code",
   "execution_count": 22,
   "id": "f1f8ca06-3a4e-4f67-912b-c7afb7000a8f",
   "metadata": {
    "tags": []
   },
   "outputs": [],
   "source": [
    "artist_name_list = []\n",
    "for i in tracks:\n",
    "    artist_name_list.append(i['track']['artists'][0]['name'])"
   ]
  },
  {
   "cell_type": "code",
   "execution_count": 25,
   "id": "c6edd837-a224-479f-98b8-99df088315c4",
   "metadata": {
    "tags": []
   },
   "outputs": [],
   "source": [
    "import pandas as pd"
   ]
  },
  {
   "cell_type": "code",
   "execution_count": 28,
   "id": "2925b505-3741-4140-aafc-eb4fc7f5cb1d",
   "metadata": {
    "tags": []
   },
   "outputs": [],
   "source": [
    "df = pd.DataFrame(audio_list)"
   ]
  },
  {
   "cell_type": "code",
   "execution_count": 29,
   "id": "26892b2d-9a52-4a9c-a309-c44ed5a119f4",
   "metadata": {
    "tags": []
   },
   "outputs": [],
   "source": [
    "df['artist'] = artist_name_list"
   ]
  },
  {
   "cell_type": "code",
   "execution_count": 31,
   "id": "3e9dac5d-ac8f-4d41-b995-debbd26cd718",
   "metadata": {
    "tags": []
   },
   "outputs": [],
   "source": [
    "df['track_name'] = track_name_list"
   ]
  },
  {
   "cell_type": "code",
   "execution_count": 33,
   "id": "120b35f0-4ce2-42d2-997b-8881cb1926e0",
   "metadata": {
    "tags": []
   },
   "outputs": [],
   "source": [
    "df.to_csv('data/hot_songs_spotify.csv', index=False)"
   ]
  },
  {
   "cell_type": "code",
   "execution_count": null,
   "id": "759670f4-4782-4ffa-8523-c0ea6c493f83",
   "metadata": {},
   "outputs": [],
   "source": []
  }
 ],
 "metadata": {
  "kernelspec": {
   "display_name": "Python 3 (ipykernel)",
   "language": "python",
   "name": "python3"
  },
  "language_info": {
   "codemirror_mode": {
    "name": "ipython",
    "version": 3
   },
   "file_extension": ".py",
   "mimetype": "text/x-python",
   "name": "python",
   "nbconvert_exporter": "python",
   "pygments_lexer": "ipython3",
   "version": "3.9.18"
  }
 },
 "nbformat": 4,
 "nbformat_minor": 5
}

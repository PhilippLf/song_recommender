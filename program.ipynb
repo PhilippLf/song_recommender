{
 "cells": [
  {
   "cell_type": "code",
   "execution_count": 2,
   "id": "ece06b9e-71c6-4b15-b91f-79875883b96d",
   "metadata": {
    "tags": []
   },
   "outputs": [],
   "source": [
    "import pandas as pd\n",
    "import numpy as np\n",
    "\n",
    "from fuzzywuzzy import fuzz\n",
    "from fuzzywuzzy import process"
   ]
  },
  {
   "cell_type": "code",
   "execution_count": 3,
   "id": "c8186e70-580d-41fb-892a-2b518b307704",
   "metadata": {
    "tags": []
   },
   "outputs": [],
   "source": [
    "import pickle\n",
    "from sklearn import datasets # sklearn comes with some toy datasets to practice\n",
    "from sklearn.preprocessing import StandardScaler\n",
    "from sklearn.cluster import KMeans"
   ]
  },
  {
   "cell_type": "code",
   "execution_count": 4,
   "id": "adbed4b4-a1f7-4f98-a1d6-15064cfb3dd9",
   "metadata": {
    "tags": []
   },
   "outputs": [],
   "source": [
    "import config"
   ]
  },
  {
   "cell_type": "code",
   "execution_count": 5,
   "id": "e8bb23de-757f-4434-93df-a7c97ae83370",
   "metadata": {
    "tags": []
   },
   "outputs": [],
   "source": [
    "import spotipy\n",
    "import json\n",
    "from spotipy.oauth2 import SpotifyClientCredentials\n",
    "\n",
    "\n",
    "#Initialize SpotiPy with user credentials\n",
    "sp = spotipy.Spotify(auth_manager=SpotifyClientCredentials(client_id= config.client_id,\n",
    "                                                           client_secret= config.client_secret))"
   ]
  },
  {
   "cell_type": "code",
   "execution_count": 6,
   "id": "dc317210-4c83-495c-bec5-14e411ec723a",
   "metadata": {
    "tags": []
   },
   "outputs": [],
   "source": [
    "    from IPython.display import IFrame\n"
   ]
  },
  {
   "cell_type": "markdown",
   "id": "2baa75d7-de88-4855-a66a-cf6d4b709518",
   "metadata": {},
   "source": [
    "### Loading data and models"
   ]
  },
  {
   "cell_type": "code",
   "execution_count": 7,
   "id": "18d6feeb-60b7-407a-aebd-d107ae4b0086",
   "metadata": {
    "tags": []
   },
   "outputs": [],
   "source": [
    "df_hot = pd.read_csv('data/hot_songs_spotify.csv')"
   ]
  },
  {
   "cell_type": "code",
   "execution_count": 19,
   "id": "b6423a24-cba0-4142-8ffa-5b463ce3daca",
   "metadata": {
    "tags": []
   },
   "outputs": [],
   "source": [
    "df_spotify = pd.read_csv('data/spotify_data_with_clusters.csv')"
   ]
  },
  {
   "cell_type": "code",
   "execution_count": 15,
   "id": "e7cc6be0-098d-453e-a572-326c878c0086",
   "metadata": {
    "tags": []
   },
   "outputs": [],
   "source": [
    "def load(filename = \"filename.pickle\"): \n",
    "    try: \n",
    "        with open(filename, \"rb\") as f: \n",
    "            return pickle.load(f) \n",
    "\n",
    "    except FileNotFoundError: \n",
    "        print(\"File not found!\")"
   ]
  },
  {
   "cell_type": "code",
   "execution_count": 16,
   "id": "aa4448ce-40c6-4213-b137-84f8267b77a6",
   "metadata": {
    "tags": []
   },
   "outputs": [],
   "source": [
    "scaler= load(filename=\"Model/scaler.pickle\")"
   ]
  },
  {
   "cell_type": "code",
   "execution_count": 17,
   "id": "2cc89aa4-923a-4c6e-ad9d-710a6230a2a6",
   "metadata": {
    "tags": []
   },
   "outputs": [],
   "source": [
    "kmeans_model = load(filename=\"Model/kmeans_7.pickle\")"
   ]
  },
  {
   "cell_type": "markdown",
   "id": "aef8a79a-92af-433c-8320-2eea3e913d36",
   "metadata": {},
   "source": [
    "### Functions"
   ]
  },
  {
   "cell_type": "code",
   "execution_count": 9,
   "id": "bfd91fe7-dbbe-4154-a764-e91afc4b6621",
   "metadata": {
    "tags": []
   },
   "outputs": [],
   "source": [
    "def get_hot_recommendation(df_hot, track_id):\n",
    "    \"\"\"\n",
    "    This function picks a random song from the Billboard Hot 100 and returns it in a dataframe with one row.\n",
    "    It does not pick the same song.\n",
    "    \"\"\"\n",
    "    df_without_title = df_hot.drop(df_hot.loc[df_hot['id']==track_id].index)\n",
    "    df_recommendation = df_without_title.sample()\n",
    "    \n",
    "    return df_recommendation"
   ]
  },
  {
   "cell_type": "code",
   "execution_count": 11,
   "id": "554dd8a5-fd04-4ec6-a605-fc1ec4795ce5",
   "metadata": {
    "tags": []
   },
   "outputs": [],
   "source": [
    "def predicting_cluster_from_song(track_id, kmeans_model, scaler):\n",
    "    \"\"\"\n",
    "    Extracting the audio features for a song from Spotify API given a track ID.\n",
    "    Predicting the cluster with my trained KMeans model.\n",
    "    Returning the predicted cluster\n",
    "    \"\"\"\n",
    "    track_df = pd.DataFrame(sp.audio_features(track_id)[0], index=[0])\n",
    "    \n",
    "    track_df_num = track_df.drop(['type', 'key', 'mode', 'id', 'uri', 'track_href', 'analysis_url', 'duration_ms', 'time_signature'], axis = 1)\n",
    "    \n",
    "    scaler.fit(track_df_num)\n",
    "    X_scaled = scaler.transform(track_df_num)\n",
    "    X_scaled_df = pd.DataFrame(X_scaled, columns = track_df_num.columns)\n",
    "    \n",
    "    cluster = kmeans_model.predict(X_scaled_df)\n",
    "    \n",
    "    return cluster[0]"
   ]
  },
  {
   "cell_type": "code",
   "execution_count": 12,
   "id": "73539350-fa26-4cd1-88ea-1d0cd9651ab1",
   "metadata": {
    "tags": []
   },
   "outputs": [],
   "source": [
    "def suggested_song_id(df_with_cluster, cluster):\n",
    "    \"\"\"\n",
    "    Taking \n",
    "    \"\"\"\n",
    "    song_id = df_with_cluster[df_with_cluster['cluster'] == cluster].sample()['id'].iloc[0]\n",
    "    return song_id"
   ]
  },
  {
   "cell_type": "code",
   "execution_count": 13,
   "id": "81a9bc97-c351-44ab-abc5-1009d8938493",
   "metadata": {
    "tags": []
   },
   "outputs": [],
   "source": [
    "def play_song(track_id):\n",
    "    return IFrame(src=\"https://open.spotify.com/embed/track/\"+track_id,\n",
    "       width=\"320\",\n",
    "       height=\"80\",\n",
    "       frameborder=\"0\",\n",
    "       allowtransparency=\"true\",\n",
    "       allow=\"encrypted-media\",\n",
    "      )"
   ]
  },
  {
   "cell_type": "markdown",
   "id": "a352b5ae-eb6c-4f52-a466-86fd3d0af0e7",
   "metadata": {},
   "source": [
    "### Program"
   ]
  },
  {
   "cell_type": "code",
   "execution_count": 25,
   "id": "455b985d-8afa-4814-bcf0-8891003acb63",
   "metadata": {
    "tags": []
   },
   "outputs": [
    {
     "name": "stdin",
     "output_type": "stream",
     "text": [
      "Enter a song you like ghost\n",
      "Do you mean Ghost Town from VIZE? (y/n) n\n"
     ]
    },
    {
     "name": "stdout",
     "output_type": "stream",
     "text": [
      "Please specify your search request or choose another song.\n"
     ]
    },
    {
     "name": "stdin",
     "output_type": "stream",
     "text": [
      "Enter a song you like sfd\n",
      "Do you mean SAD! from XXXTENTACION? (y/n) sdfd\n",
      "Enter a song you like x\n",
      "Do you mean XO Tour Llif3 from Lil Uzi Vert? (y/n) y\n"
     ]
    },
    {
     "name": "stdout",
     "output_type": "stream",
     "text": [
      "You will like this song:\n"
     ]
    }
   ],
   "source": [
    "while True:\n",
    "    title = input('Enter a song you like')\n",
    "    results = sp.search(q=f\"{title}\",limit=5, market='DE')\n",
    "    song_name = results[\"tracks\"][\"items\"][0][\"name\"]\n",
    "    artist_name = results[\"tracks\"][\"items\"][0][\"artists\"][0][\"name\"]\n",
    "    track_id = results[\"tracks\"][\"items\"][0][\"id\"]\n",
    "    question = input(f\"Do you mean {song_name} from {artist_name}? (y/n)\")\n",
    "    if question == 'y':\n",
    "        if track_id in list(df_hot['id']):\n",
    "            df_recommendation = get_hot_recommendation(df_hot, track_id)\n",
    "            print(f\"You will like {df_recommendation['track_title'].iloc[0]} from {df_recommendation['artist'].iloc[0]}!\")\n",
    "            play_song(track_id)\n",
    "        else:\n",
    "            cluster = predicting_cluster_from_song(track_id, kmeans_model, scaler)\n",
    "            song_id = suggested_song_id(df_spotify, cluster)\n",
    "            print(\"You will like this song:\")\n",
    "            play_song(song_id)\n",
    "            break\n",
    "    if question == 'n':\n",
    "        print(\"Please specify your search request or choose another song.\")\n"
   ]
  },
  {
   "cell_type": "code",
   "execution_count": 48,
   "id": "6259003c-0129-4ead-a218-15e2ecf8ff5d",
   "metadata": {
    "tags": []
   },
   "outputs": [
    {
     "data": {
      "text/html": [
       "\n",
       "        <iframe\n",
       "            width=\"320\"\n",
       "            height=\"80\"\n",
       "            src=\"https://open.spotify.com/embed/track/0CGbof9amBnsNlRhZ8IY2H?frameborder=0&allowtransparency=true&allow=encrypted-media\"\n",
       "            frameborder=\"0\"\n",
       "            allowfullscreen\n",
       "            \n",
       "        ></iframe>\n",
       "        "
      ],
      "text/plain": [
       "<IPython.lib.display.IFrame at 0x15be3b6d0>"
      ]
     },
     "execution_count": 48,
     "metadata": {},
     "output_type": "execute_result"
    }
   ],
   "source": [
    "play_song(song_id)"
   ]
  },
  {
   "cell_type": "code",
   "execution_count": null,
   "id": "8cdea267-54a8-4c9b-97bc-4c8d9a1c3f49",
   "metadata": {},
   "outputs": [],
   "source": []
  }
 ],
 "metadata": {
  "kernelspec": {
   "display_name": "Python 3 (ipykernel)",
   "language": "python",
   "name": "python3"
  },
  "language_info": {
   "codemirror_mode": {
    "name": "ipython",
    "version": 3
   },
   "file_extension": ".py",
   "mimetype": "text/x-python",
   "name": "python",
   "nbconvert_exporter": "python",
   "pygments_lexer": "ipython3",
   "version": "3.9.18"
  }
 },
 "nbformat": 4,
 "nbformat_minor": 5
}
